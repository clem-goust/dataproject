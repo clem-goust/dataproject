{
 "cells": [
  {
   "cell_type": "markdown",
   "id": "51e3a33f",
   "metadata": {},
   "source": [
    "![Garanteo logo](garanteo.png)"
   ]
  },
  {
   "cell_type": "markdown",
   "id": "b24d0184",
   "metadata": {},
   "source": [
    "---"
   ]
  },
  {
   "cell_type": "markdown",
   "id": "28c76fbb",
   "metadata": {},
   "source": [
    "# Table des matières"
   ]
  },
  {
   "cell_type": "markdown",
   "id": "80f896fd",
   "metadata": {},
   "source": [
    "1. [Initialisation](#1.-Initialisation)\n",
    "1. [Cleaning](#2.-Cleaning)\n",
    "1. [Définition des besoins de donnée pour chaque objectif](#3.-D%C3%A9finition-des-besoins-de-donn%C3%A9e-pour-chaque-objectif)\n",
    "1. [Enrichissement des tables de base](#4.-Enrichissement-des-tables-de-base)\n",
    "1. [Création des tables pour chaque objectif](#5.-Cr%C3%A9ation-des-tables-pour-chaque-objectif)\n",
    "    1. [Objectif A](#5.-Objectif-A)\n",
    "        1. [Initialisation](#5.A-Initialisation)\n",
    "        1. [Analyse par campagne](#5.A-Analyse-par-campagne)\n",
    "        1. [Analyse par canal](#5.A-Analyse-par-canal)\n",
    "        1. [Analyse par partenaire](#5.A-Analyse-par-partenaire)\n",
    "    1. [Objectif B](#5.-Objectif-B)\n",
    "    1. [Objectif C](#5.-Objectif-C)\n",
    "1. [Analyses / Réponses aux questions](#6.-Analyses-/-Réponses-aux-questions)\n",
    "    1. [Objectif A](#6.-Objectif-A)\n",
    "    1. [Objectif B](#6.-Objectif-B)\n",
    "    1. [Objectif C](#6.-Objectif-C)\n",
    "1. [Extraction des tables pour Power BI](#7.-Extraction-des-tables-pour-Power-BI)"
   ]
  },
  {
   "cell_type": "markdown",
   "id": "5132452a",
   "metadata": {},
   "source": [
    "---"
   ]
  },
  {
   "cell_type": "markdown",
   "id": "156d1b0f",
   "metadata": {},
   "source": [
    "# 1. Initialisation"
   ]
  },
  {
   "cell_type": "code",
   "execution_count": null,
   "id": "7e950372",
   "metadata": {},
   "outputs": [],
   "source": [
    "import pandas as pd\n",
    "import numpy as np\n",
    "import regex as re\n",
    "import matplotlib.pyplot as plt\n",
    "import seaborn as sns\n",
    "import datetime as dt\n",
    "import warnings"
   ]
  },
  {
   "cell_type": "code",
   "execution_count": null,
   "id": "f04bee6b",
   "metadata": {},
   "outputs": [],
   "source": [
    "warnings.simplefilter('ignore')"
   ]
  },
  {
   "cell_type": "code",
   "execution_count": null,
   "id": "bee3b5f8",
   "metadata": {},
   "outputs": [],
   "source": [
    "pd.options.display.max_rows"
   ]
  },
  {
   "cell_type": "code",
   "execution_count": null,
   "id": "dde4eda6",
   "metadata": {},
   "outputs": [],
   "source": [
    "pd.options.display.max_columns"
   ]
  },
  {
   "cell_type": "code",
   "execution_count": null,
   "id": "965d866f",
   "metadata": {},
   "outputs": [],
   "source": [
    "df_sessions = pd.read_csv(\"sessions.csv\")\n",
    "df_sessions"
   ]
  },
  {
   "cell_type": "code",
   "execution_count": null,
   "id": "654bbe57",
   "metadata": {},
   "outputs": [],
   "source": [
    "df_campaigns = pd.read_csv(\"campaigns.csv\")\n",
    "df_campaigns"
   ]
  },
  {
   "cell_type": "code",
   "execution_count": null,
   "id": "61224219",
   "metadata": {},
   "outputs": [],
   "source": [
    "df_events = pd.read_csv(\"events.csv\")\n",
    "df_events"
   ]
  },
  {
   "cell_type": "code",
   "execution_count": null,
   "id": "16390089",
   "metadata": {},
   "outputs": [],
   "source": [
    "df_prospects = pd.read_csv(\"prospects.csv\")\n",
    "df_prospects"
   ]
  },
  {
   "cell_type": "markdown",
   "id": "e46ba25b",
   "metadata": {},
   "source": [
    "# 2. Cleaning"
   ]
  },
  {
   "cell_type": "markdown",
   "id": "77645ee0",
   "metadata": {},
   "source": [
    "## Table \"df_sessions\""
   ]
  },
  {
   "cell_type": "markdown",
   "id": "52f296a7",
   "metadata": {},
   "source": [
    "**On enlève la colonne d'indice inutile**"
   ]
  },
  {
   "cell_type": "code",
   "execution_count": null,
   "id": "21053edb",
   "metadata": {},
   "outputs": [],
   "source": [
    "df_sessions = df_sessions.drop(columns='Unnamed: 0')"
   ]
  },
  {
   "cell_type": "markdown",
   "id": "8dd81f2f",
   "metadata": {},
   "source": [
    "**On supprime les doublons**"
   ]
  },
  {
   "cell_type": "code",
   "execution_count": null,
   "id": "d9a33c3a",
   "metadata": {},
   "outputs": [],
   "source": [
    "df_sessions = df_sessions.drop_duplicates().reset_index(drop=True)"
   ]
  },
  {
   "cell_type": "markdown",
   "id": "7fd9df93",
   "metadata": {},
   "source": [
    "**Transformation des colonnes 'session_started_at' et 'session_ended_at' en datetime**"
   ]
  },
  {
   "cell_type": "code",
   "execution_count": null,
   "id": "2118e674",
   "metadata": {},
   "outputs": [],
   "source": [
    "df_sessions['session_started_at'] = pd.to_datetime(df_sessions['session_started_at'])\n",
    "df_sessions['session_ended_at'] = pd.to_datetime(df_sessions['session_ended_at'])"
   ]
  },
  {
   "cell_type": "markdown",
   "id": "14c9067b",
   "metadata": {},
   "source": [
    "## Table \"df_campaigns\""
   ]
  },
  {
   "cell_type": "markdown",
   "id": "c621a42a",
   "metadata": {},
   "source": [
    "**On enlève la colonne d'indice inutile**"
   ]
  },
  {
   "cell_type": "code",
   "execution_count": null,
   "id": "aa98f217",
   "metadata": {},
   "outputs": [],
   "source": [
    "df_campaigns = df_campaigns.drop(columns='Unnamed: 0')"
   ]
  },
  {
   "cell_type": "markdown",
   "id": "2f74d94a",
   "metadata": {},
   "source": [
    "**Suppression des colonnes 'campaign_start_date' et 'campaign_end_date' (lignes toutes identiques)**"
   ]
  },
  {
   "cell_type": "code",
   "execution_count": null,
   "id": "f5a09954",
   "metadata": {},
   "outputs": [],
   "source": [
    "df_campaigns = df_campaigns.drop(columns=['campaign_start_date', 'campaign_end_date'])"
   ]
  },
  {
   "cell_type": "markdown",
   "id": "5d0c7851",
   "metadata": {},
   "source": [
    "## Table \"df_events\""
   ]
  },
  {
   "cell_type": "markdown",
   "id": "5875c9bb",
   "metadata": {},
   "source": [
    "**On enlève la colonne d'indice inutile**"
   ]
  },
  {
   "cell_type": "code",
   "execution_count": null,
   "id": "175fb2e9",
   "metadata": {},
   "outputs": [],
   "source": [
    "df_events = df_events.drop(columns='Unnamed: 0')"
   ]
  },
  {
   "cell_type": "markdown",
   "id": "628ef12a",
   "metadata": {},
   "source": [
    "**On supprime les doublons**"
   ]
  },
  {
   "cell_type": "code",
   "execution_count": null,
   "id": "70b0492d",
   "metadata": {},
   "outputs": [],
   "source": [
    "df_events = df_events.drop_duplicates().reset_index(drop=True)"
   ]
  },
  {
   "cell_type": "markdown",
   "id": "ed26464e",
   "metadata": {},
   "source": [
    "**Transformation de la colonne 'event_timestamp' en datetime**"
   ]
  },
  {
   "cell_type": "code",
   "execution_count": null,
   "id": "6a5c4ed9",
   "metadata": {},
   "outputs": [],
   "source": [
    "df_events['event_timestamp'] = pd.to_datetime(df_events['event_timestamp'])"
   ]
  },
  {
   "cell_type": "markdown",
   "id": "ddb7f237",
   "metadata": {},
   "source": [
    "**On supprime les NaN de la colonne 'user_id', dont les lignes sont inexploitables**"
   ]
  },
  {
   "cell_type": "code",
   "execution_count": null,
   "id": "b0dfd694",
   "metadata": {},
   "outputs": [],
   "source": [
    "df_events = df_events.dropna(subset=['user_id'])"
   ]
  },
  {
   "cell_type": "markdown",
   "id": "79e966fe",
   "metadata": {},
   "source": [
    "## Table df_prospects"
   ]
  },
  {
   "cell_type": "markdown",
   "id": "e1b90ddb",
   "metadata": {},
   "source": [
    "**On enlève la colonne d'indice inutile**"
   ]
  },
  {
   "cell_type": "code",
   "execution_count": null,
   "id": "ea03e589",
   "metadata": {},
   "outputs": [],
   "source": [
    "df_prospects = df_prospects.drop(columns='Unnamed: 0')"
   ]
  },
  {
   "cell_type": "markdown",
   "id": "0ac19e93",
   "metadata": {},
   "source": [
    "**On supprime les doublons**"
   ]
  },
  {
   "cell_type": "code",
   "execution_count": null,
   "id": "22382d53",
   "metadata": {},
   "outputs": [],
   "source": [
    "df_prospects = df_prospects.drop_duplicates().reset_index(drop=True)"
   ]
  },
  {
   "cell_type": "markdown",
   "id": "94b1702f",
   "metadata": {},
   "source": [
    "**On convertit la colonne 'prospect_creation_date' en datetime**"
   ]
  },
  {
   "cell_type": "code",
   "execution_count": null,
   "id": "621eedf4",
   "metadata": {},
   "outputs": [],
   "source": [
    "df_prospects['prospect_creation_date'] = pd.to_datetime(df_prospects['prospect_creation_date'])"
   ]
  },
  {
   "cell_type": "markdown",
   "id": "79f9b4ae",
   "metadata": {},
   "source": [
    "# 3. Définition des besoins de donnée pour chaque objectif"
   ]
  },
  {
   "cell_type": "markdown",
   "id": "331fa239",
   "metadata": {},
   "source": [
    "## Rappel des objectifs\n",
    "\n",
    "- **Objectif A: Optimisation du Budget d'Acquisition**\n",
    "    - **But:** Allouer le budget de manière à maximiser le ROI en ciblant les canaux et campagnes les plus performants.\n",
    "    - **Action:** Analyser les performances historiques des différents canaux d'acquisition et répartir le budget selon leur efficacité prouvée et leur potentiel de croissance.\n",
    "- **Objectif B: Analyse de Segmentation des Visiteurs**\n",
    "    - **But:** Comprendre les profils des visiteurs du site de Garanteo pour personnaliser les offres et améliorer l'efficacité de la communication.\n",
    "    - **Action:** Utiliser les données analytiques du site pour segmenter les visiteurs en groupes homogènes, basés sur leur comportement et leurs préférences.\n",
    "- **Objectif C: Scoring des Leads via WCB (Web Call Backs)**\n",
    "    - **But:** Améliorer la conversion en qualifiant et en priorisant les leads générés, pour une gestion plus efficace par l'équipe de vente.\n",
    "    - **Action:** Mettre en place un modèle de scoring basé sur des critères tels que le comportement sur le site et les informations fournies lors de la demande de rappel, pour évaluer le potentiel de conversion de chaque lead."
   ]
  },
  {
   "cell_type": "markdown",
   "id": "cd34ccb0",
   "metadata": {},
   "source": [
    "## Objectif A: Analyser les performances historiques des différents canaux d'acquisition et répartir le budget selon leur efficacité prouvée et leur potentiel de croissance"
   ]
  },
  {
   "cell_type": "markdown",
   "id": "c8f6a98e",
   "metadata": {},
   "source": [
    "**Compréhension du sujet :**\n",
    "\n",
    "Le site a attiré l'essentiel de ses utilisateurs via des campagnes marketing, sur différents canaux et avec différents partenaires.\n",
    "\n",
    "Le marketing funnel est le suivant : sessions (22973) > users (6720) > users CTC (2157) > prospects (2060) > clients (180).\n",
    "\n",
    "Pour évaluer l'efficacité du marketing, on peut considérer différents types de sessions :\n",
    "- C'est la première fois que le client se connecte sur le site\n",
    "- La session aboutit sur un CTC\n",
    "- C'est une visite qui n'est ni la 1ère, ni un CTC\n",
    "\n",
    "Pour chacune de ces sessions, on peut mesurer la durée et le nombre de clics."
   ]
  },
  {
   "cell_type": "markdown",
   "id": "07f1cd50",
   "metadata": {},
   "source": [
    "**Besoins de donnée :**"
   ]
  },
  {
   "cell_type": "markdown",
   "id": "f8629bcd",
   "metadata": {},
   "source": [
    "Par campagne :\n",
    "- Type campagne\n",
    "- Nombre de sessions\n",
    "- Nombre de 1ères sessions\n",
    "- Proportion de 1ères sessions\n",
    "- Nombre de CTC\n",
    "- Proportion de CTC\n",
    "- Nombre de prospects créés par ces CTC et convertis en clients\n",
    "- Temps cumulé de session\n",
    "- Temps moyen de session\n",
    "- Nombre de clics\n",
    "- Nombre moyen de clics\n",
    "- Coût\n",
    "- Coût par clic\n",
    "- Coût par session\n",
    "- Coût par minute de session\n",
    "- Coût par CTC\n",
    "- Coût par client\n",
    "- Données par page\n",
    "\n",
    "Par canal :\n",
    "- Nombre de sessions\n",
    "- Nombre de 1ères sessions\n",
    "- Proportion de 1ères sessions\n",
    "- Nombre de CTC\n",
    "- Proportion de CTC\n",
    "- Nombre de prospects créés par ce CTC et convertis en clients\n",
    "- Temps cumulé de session\n",
    "- Temps moyen de session\n",
    "- Nombre de clics\n",
    "- Nombre moyen de clics\n",
    "- Données par page\n",
    "\n",
    "Par partenaire :\n",
    "- Nombre de sessions\n",
    "- Nombre de 1ères sessions\n",
    "- Proportion de 1ères sessions\n",
    "- Nombre de CTC\n",
    "- Proportion de CTC\n",
    "- Nombre de prospects créés par ce CTC et convertis en clients\n",
    "- Temps cumulé de session\n",
    "- Temps moyen de session\n",
    "- Nombre de clics\n",
    "- Nombre moyen de clics\n",
    "- Données par page"
   ]
  },
  {
   "cell_type": "markdown",
   "id": "3f943c13",
   "metadata": {},
   "source": [
    "**Annexes - Dimensionnement du marketing funnel**"
   ]
  },
  {
   "cell_type": "code",
   "execution_count": null,
   "id": "be9b1c6e",
   "metadata": {},
   "outputs": [],
   "source": [
    "# sessions\n",
    "df_sessions[\"user_id\"].notna().sum()"
   ]
  },
  {
   "cell_type": "code",
   "execution_count": null,
   "id": "b43dffc9",
   "metadata": {},
   "outputs": [],
   "source": [
    "# active users\n",
    "df_events[\"user_id\"].nunique()"
   ]
  },
  {
   "cell_type": "code",
   "execution_count": null,
   "id": "7817ebf4",
   "metadata": {},
   "outputs": [],
   "source": [
    "# users CTC\n",
    "df_events[df_events['event_type']=='CTC'][\"user_id\"].nunique()"
   ]
  },
  {
   "cell_type": "code",
   "execution_count": null,
   "id": "d53cfe73",
   "metadata": {},
   "outputs": [],
   "source": [
    "df_prospects.shape[0]"
   ]
  },
  {
   "cell_type": "code",
   "execution_count": null,
   "id": "f256921a",
   "metadata": {},
   "outputs": [],
   "source": [
    "df_prospects[df_prospects['is_client']==1].shape[0]"
   ]
  },
  {
   "cell_type": "markdown",
   "id": "511ed413",
   "metadata": {},
   "source": [
    "## Objectif B: Utiliser les données analytiques du site pour segmenter les visiteurs en groupes homogènes, basés sur leur comportement et leurs préférences"
   ]
  },
  {
   "cell_type": "markdown",
   "id": "eac3093b",
   "metadata": {},
   "source": [
    "**Compréhension du sujet :**"
   ]
  },
  {
   "cell_type": "markdown",
   "id": "b56effd0",
   "metadata": {},
   "source": [
    "Les utilisateurs visitent des pages différentes, se connectent sur des durées plus ou moins longues, sur des jours de la semaine différents, avec des set-up (device, browser, etc.) différents.\n",
    "\n",
    "L'idée est de créer un dataframe avec le plus de données comportementales possibles sur tous les utilisateurs (pas seulement les prospects)...\n",
    "\n",
    "... Puis de faire tourner un algorithme de ML (clustering) pour dégager de potentiels segments clients.\n",
    "\n",
    "Si le clustering n'est pas concluant, on peut réfléchir à un arbre de décision pour classer les clients selon leurs préférences et leurs habitudes de connexion"
   ]
  },
  {
   "cell_type": "markdown",
   "id": "8b988a3d",
   "metadata": {},
   "source": [
    "**Besoins de donnée :**"
   ]
  },
  {
   "cell_type": "markdown",
   "id": "3088a2ac",
   "metadata": {},
   "source": [
    "Par utilisateur actif (prospect & non-prospect = 6124 utilisateurs) :\n",
    "- Nombre de sessions\n",
    "- Temps moyen entre chaque session\n",
    "- Nombre de visites de chaque page\n",
    "- Temps total sur le site\n",
    "- Temps total sur chaque page\n",
    "- Proportion du temps par page\n",
    "- Nombre de CTC par page\n",
    "- Temps de visite par jour de la semaine\n",
    "- Temps de visite par période de la journée\n",
    "- Device\n",
    "- Browser\n",
    "- OS\n",
    "- Langue\n",
    "- Pays"
   ]
  },
  {
   "cell_type": "markdown",
   "id": "d9bc93de",
   "metadata": {},
   "source": [
    "**Annexe - Dimensionnement des utilisateurs**"
   ]
  },
  {
   "cell_type": "code",
   "execution_count": null,
   "id": "4718a8a6",
   "metadata": {},
   "outputs": [],
   "source": [
    "df_sessions[\"user_id\"].nunique()"
   ]
  },
  {
   "cell_type": "markdown",
   "id": "f1550828",
   "metadata": {},
   "source": [
    "## Objectif C: Mettre en place un modèle de scoring basé sur des critères tels que le comportement sur le site et les informations fournies lors de la demande de rappel, pour évaluer le potentiel de conversion de chaque lead"
   ]
  },
  {
   "cell_type": "markdown",
   "id": "1b75a5d2",
   "metadata": {},
   "source": [
    "**Compréhension du sujet :**\n",
    "\n",
    "- On dispose d'une table de 2060 prospects, \n",
    "\n",
    "- 655 ont été rappelés (Groupe 1), et parmi ceux-ci :\n",
    "    - 47 sont devenus clients\n",
    "    - 608 ne sont pas devenus clients\n",
    "\n",
    "- 1272 n'ont toujours pas été rappelés ET ne sont pas clients (Groupe 2). \n",
    "\n",
    "C'est le Groupe 2 qui nous intéresse. On cherche à savoir quels prospects de ce groupe, une fois appelés, ont le plus de chance de devenir client.\n",
    "\n",
    "Pour cela, on va enrichir la base de données Prospects avec des points de données sur le comportement des utilisateurs.\n",
    "\n",
    "Puis on va entraîner un modèle de ML (catégorisation) sur le Groupe 1, avec y = 'is_client' et X = les données utilisateurs jugées pertinentes.\n",
    "\n",
    "On fera ensuite tourner le modèle sur le Groupe 2 pour estimer leur probabilité de devenir client.\n",
    "\n",
    "Discussion sur l'inclusion ou non des clients non-appelés :\n",
    "\n",
    "https://chatgpt.com/share/66f3cb5b-bdc4-8013-9d06-5cf91c21648a"
   ]
  },
  {
   "cell_type": "markdown",
   "id": "66c6e7b9",
   "metadata": {},
   "source": [
    "**Besoins de donnée :**"
   ]
  },
  {
   "cell_type": "markdown",
   "id": "e231eb05",
   "metadata": {},
   "source": [
    "Variable à prédire (y)\n",
    "- Is_client (y)\n",
    "\n",
    "Variables pour l'entraînement (X) :\n",
    "- Age (et/ou catégorie d'âge)\n",
    "- Genre\n",
    "- Nombre de sessions\n",
    "- Temps total sur le site\n",
    "- Temps moyen (en jours) entre deux sessions\n",
    "- Nombre total de clics\n",
    "- Nombre de visites avant le CTC\n",
    "- Temps (calendaire) entre la 1ère visite et le 1er CTC\n",
    "- Temps total en ligne avant le 1er CTC\n",
    "- Page du 1er et du dernier CTC\n",
    "\n",
    "Pour les besoins de l'Objectif A :\n",
    "- Id de la campagne du 1er CTC\n",
    "\n",
    "Pour prioriser les lead calls une fois les scores assignés :\n",
    "- Date du dernier CTC\n",
    "\n",
    "Ensuite on filtre le Groupe 1 et on entraîne le modèle de ML\n",
    "\n",
    "Puis on filtre le Groupe 2, on vide la colonne is_client, et on fait tourner le modèle \n"
   ]
  },
  {
   "cell_type": "markdown",
   "id": "6b8a2bde",
   "metadata": {},
   "source": [
    "**Annexe - Dimensionnement des échantillons**"
   ]
  },
  {
   "cell_type": "code",
   "execution_count": null,
   "id": "65170353",
   "metadata": {},
   "outputs": [],
   "source": [
    "# Groupe 1\n",
    "df_prospects[df_prospects['is_presented_prospect']==1]['is_client'].value_counts()"
   ]
  },
  {
   "cell_type": "code",
   "execution_count": null,
   "id": "dc8dc7f7",
   "metadata": {},
   "outputs": [],
   "source": [
    "# Groupe 2\n",
    "df_prospects[(df_prospects['is_presented_prospect']==0) & (df_prospects['is_client']==0)].shape[0]"
   ]
  },
  {
   "cell_type": "markdown",
   "id": "ece4e993",
   "metadata": {},
   "source": [
    "# 4. Enrichissement des tables de base"
   ]
  },
  {
   "cell_type": "markdown",
   "id": "74a11559",
   "metadata": {},
   "source": [
    "## Table df_sessions"
   ]
  },
  {
   "cell_type": "markdown",
   "id": "374d891e",
   "metadata": {},
   "source": [
    "**On ajoute la durée de chaque session**"
   ]
  },
  {
   "cell_type": "code",
   "execution_count": null,
   "id": "5fcd4a68",
   "metadata": {},
   "outputs": [],
   "source": [
    "df_sessions['session_duration'] = (df_sessions['session_ended_at'] - df_sessions['session_started_at'])"
   ]
  },
  {
   "cell_type": "markdown",
   "id": "7a23d12e",
   "metadata": {},
   "source": [
    "**On ajoute le jour de la semaine de la session**"
   ]
  },
  {
   "cell_type": "code",
   "execution_count": null,
   "id": "4cfd9bef",
   "metadata": {},
   "outputs": [],
   "source": [
    "df_sessions['session_weekday'] = df_sessions['session_started_at'].dt.weekday"
   ]
  },
  {
   "cell_type": "markdown",
   "id": "bb8d45cc",
   "metadata": {},
   "source": [
    "**On crée des \"moments de la journée\"**\n",
    "- 00h00 : 06h00 = \"night\"\n",
    "- 06h00 : 12h00 = \"morning\"\n",
    "- 12h00 : 18h00 = \"afternoon\"\n",
    "- 18h00 : 00h00 = \"evening\""
   ]
  },
  {
   "cell_type": "code",
   "execution_count": null,
   "id": "3cce86aa",
   "metadata": {},
   "outputs": [],
   "source": [
    "def day_period(time):\n",
    "    if (time >= dt.time(0,0,0)) & (time < dt.time(6,0,0)):\n",
    "        return 'night'\n",
    "    elif (time >= dt.time(6,0,0)) & (time < dt.time(12,0,0)):\n",
    "        return 'morning'\n",
    "    elif (time >= dt.time(12,0,0)) & (time < dt.time(18,0,0)):\n",
    "        return 'afternoon'\n",
    "    elif (time >= dt.time(18,0,0)) & (time <= dt.time(23,59,59)):\n",
    "        return 'evening'\n",
    "    else:\n",
    "        return np.nan"
   ]
  },
  {
   "cell_type": "code",
   "execution_count": null,
   "id": "968fe301",
   "metadata": {},
   "outputs": [],
   "source": [
    "df_sessions['day_period'] = df_sessions['session_started_at'].dt.time.apply(day_period)"
   ]
  },
  {
   "cell_type": "markdown",
   "id": "9bfed66f",
   "metadata": {},
   "source": [
    "**Ajout du temps entre deux sessions d'un même utilisateur**"
   ]
  },
  {
   "cell_type": "code",
   "execution_count": null,
   "id": "a2dc3fd1",
   "metadata": {},
   "outputs": [],
   "source": [
    "# On trie les sessions par utilisateur et par date/heure de début de session\n",
    "df_sessions = df_sessions.sort_values(['user_id','session_started_at']).reset_index(drop=True)\n",
    "\n",
    "# On ne garde que les indicateurs nécessaires\n",
    "df_time_btw_sessions = df_sessions[['session_id','user_id', 'session_started_at', 'session_ended_at']]\n",
    "\n",
    "# Pour chaque ligne, on ajoute la date/heure de la fin de la session juste au-dessus dans le tableau\n",
    "df_time_btw_sessions['previous_session_end'] = df_time_btw_sessions['session_ended_at'].shift(1)\n",
    "\n",
    "# Idem, avec l'id utilisateur (on veut vérifier si deux sessions consécutives sont du même utilisateur ou non)\n",
    "df_time_btw_sessions['previous_user_id'] = df_time_btw_sessions['user_id'].shift(1)\n",
    "\n",
    "# On crée une colonne qui contient des True quand deux sessions consécutives sont du même user, et NaN sinon\n",
    "df_time_btw_sessions['is_same_user'] = (df_time_btw_sessions['previous_user_id'] == df_time_btw_sessions['user_id']).replace(False,np.nan)\n",
    "\n",
    "# On multiplie cette dernière colonne par la la différence entre date/heure de début de la session et date/heure de fin de la précédente\n",
    "df_time_btw_sessions['time_btw_sessions'] = df_time_btw_sessions['is_same_user']*(df_time_btw_sessions['session_started_at'] - df_time_btw_sessions['previous_session_end'])\n",
    "\n",
    "# Ainsi, on obtient NaN si deux sessions ne sont pas consécutives (cad, comme la table est triée, si c'est la 1ere session du user)"
   ]
  },
  {
   "cell_type": "code",
   "execution_count": null,
   "id": "03194078",
   "metadata": {},
   "outputs": [],
   "source": [
    "# On vérifie qu'il n'y a pas de doublon\n",
    "df_time_btw_sessions[['session_id', 'session_started_at']].duplicated().sum()"
   ]
  },
  {
   "cell_type": "code",
   "execution_count": null,
   "id": "f4ca2fe4",
   "metadata": {},
   "outputs": [],
   "source": [
    "# On ajoute cette nouvelle colonne à sessions\n",
    "df_sessions = df_sessions\\\n",
    "                .merge(df_time_btw_sessions[[\"session_id\", \"user_id\", \"session_started_at\",\"time_btw_sessions\"]],\\\n",
    "                       on=[\"session_id\", \"user_id\", \"session_started_at\"])"
   ]
  },
  {
   "cell_type": "markdown",
   "id": "0420d394",
   "metadata": {},
   "source": [
    "**On prépare, pour plus tard, une table avec le temps moyen par session par user**"
   ]
  },
  {
   "cell_type": "code",
   "execution_count": null,
   "id": "1be7913f",
   "metadata": {},
   "outputs": [],
   "source": [
    "df_avgtime_btw_sessions = df_time_btw_sessions.groupby('user_id').agg({'time_btw_sessions':'mean'}).reset_index()\n",
    "df_avgtime_btw_sessions = df_avgtime_btw_sessions.rename(columns={'time_btw_sessions':'avg_time_btw_sessions'})"
   ]
  },
  {
   "cell_type": "markdown",
   "id": "caf326bf",
   "metadata": {},
   "source": [
    "**Pour les users dont device_type == desktop, on remplace le NaN de device_operating_system par Windows**"
   ]
  },
  {
   "cell_type": "markdown",
   "id": "92edf13b",
   "metadata": {},
   "source": [
    "Cela va notamment nous permettre de les distinguer des vrais NaN (absence de données)"
   ]
  },
  {
   "cell_type": "code",
   "execution_count": null,
   "id": "25b1bc34",
   "metadata": {},
   "outputs": [],
   "source": [
    "windows = (df_sessions['device_type'] == 'desktop').replace({False: np.nan, True: 'windows'})\n",
    "df_sessions['device_operating_system'].fillna(windows, inplace=True)"
   ]
  },
  {
   "cell_type": "markdown",
   "id": "d459614e",
   "metadata": {},
   "source": [
    "## Table df_events"
   ]
  },
  {
   "cell_type": "markdown",
   "id": "3c202971",
   "metadata": {},
   "source": [
    "**Création d'une colonne prélevant les noms de site des url de la colonne 'referrer'**"
   ]
  },
  {
   "cell_type": "code",
   "execution_count": null,
   "id": "d3ef2b80",
   "metadata": {},
   "outputs": [],
   "source": [
    "def f_referrer(string):\n",
    "    string = str(string)\n",
    "    if 'site' in string:\n",
    "        return 'site'\n",
    "    elif 'google' in string:\n",
    "        return 'google'\n",
    "    elif 'awin' in string:\n",
    "        return 'awin'\n",
    "    elif 'affise' in string:\n",
    "        return 'affise'\n",
    "    elif 'cj' in string:\n",
    "        return 'cj'\n",
    "    else:\n",
    "        return np.nan"
   ]
  },
  {
   "cell_type": "code",
   "execution_count": null,
   "id": "31254931",
   "metadata": {},
   "outputs": [],
   "source": [
    "df_events['referrer_summary'] = df_events['referrer'].apply(f_referrer)"
   ]
  },
  {
   "cell_type": "markdown",
   "id": "cd8339b5",
   "metadata": {},
   "source": [
    "**Création d'une colonne avec les numéros de page visitées (pour simplifier la colonne url)**"
   ]
  },
  {
   "cell_type": "code",
   "execution_count": null,
   "id": "904440be",
   "metadata": {},
   "outputs": [],
   "source": [
    "df_events['page'] = df_events['url'].apply(lambda x: int(x[-1])).astype(str)"
   ]
  },
  {
   "cell_type": "markdown",
   "id": "1f394ce2",
   "metadata": {},
   "source": [
    "## Table df_prospects"
   ]
  },
  {
   "cell_type": "markdown",
   "id": "db9c5538",
   "metadata": {},
   "source": [
    "**On crée des catégories d'âge**"
   ]
  },
  {
   "cell_type": "code",
   "execution_count": null,
   "id": "fc483909",
   "metadata": {},
   "outputs": [],
   "source": [
    "def age_cat_w10(x):\n",
    "    for i in range(20, 200, 10):\n",
    "        if (x>i-10) & (x<=i):\n",
    "            age_cat = f'{i-10+1}-{i}'\n",
    "    return age_cat\n",
    "\n",
    "def age_cat_w20(x):\n",
    "    for i in range(20, 200, 20):\n",
    "        if (x>i-20) & (x<=i):\n",
    "            age_cat = f'{i-20+1}-{i}'\n",
    "    return age_cat\n",
    "\n",
    "def age_cat_w30(x):\n",
    "    for i in range(20, 200, 30):\n",
    "        if (x>i-30) & (x<=i):\n",
    "            age_cat = f'{i-30+1}-{i}'\n",
    "    return age_cat\n",
    "\n",
    "def age_cat_w40(x):\n",
    "    for i in range(20, 200, 40):\n",
    "        if (x>i-40) & (x<=i):\n",
    "            age_cat = f'{i-40+1}-{i}'\n",
    "    return age_cat"
   ]
  },
  {
   "cell_type": "code",
   "execution_count": null,
   "id": "521011d3",
   "metadata": {},
   "outputs": [],
   "source": [
    "# On ne crée que les colonnes de largeur 20y et 30y\n",
    "df_prospects['age_cat_w20'] = df_prospects['age'].apply(age_cat_w20)\n",
    "df_prospects['age_cat_w30'] = df_prospects['age'].apply(age_cat_w30)"
   ]
  },
  {
   "cell_type": "markdown",
   "id": "64701de0",
   "metadata": {},
   "source": [
    "# 5. Création des tables pour chaque objectif"
   ]
  },
  {
   "cell_type": "markdown",
   "id": "20d9d086",
   "metadata": {},
   "source": [
    "## 5. Objectif A"
   ]
  },
  {
   "cell_type": "markdown",
   "id": "4ec15fcd",
   "metadata": {},
   "source": [
    "### 5.A Initialisation"
   ]
  },
  {
   "cell_type": "markdown",
   "id": "78b9fcc8",
   "metadata": {},
   "source": [
    "**Jointure df_sessions / df_events et enrichissement de cette table**"
   ]
  },
  {
   "cell_type": "markdown",
   "id": "c2a3612e",
   "metadata": {},
   "source": [
    "On rappelle qu'en supprimant les user_id = nan dans df_events, on a aussi supprimé les session_id = nan"
   ]
  },
  {
   "cell_type": "markdown",
   "id": "7ededfaa",
   "metadata": {},
   "source": [
    "On veut maintenant associer chaque event à une session "
   ]
  },
  {
   "cell_type": "markdown",
   "id": "ce2e66f1",
   "metadata": {},
   "source": [
    "Comme il y a des session_id = nan dans df_sessions, je veux vérifier, au préalable, qu'en me focalisant sur les session_id non-nan, je ne perds pas un volume de données significatifs sur les users qui sont dans la table events"
   ]
  },
  {
   "cell_type": "code",
   "execution_count": null,
   "id": "8d41795e",
   "metadata": {},
   "outputs": [],
   "source": [
    "df_sessions[df_sessions['user_id'].isin(df_events['user_id'])]['session_id'].isna().sum()"
   ]
  },
  {
   "cell_type": "markdown",
   "id": "dd690a7e",
   "metadata": {},
   "source": [
    "Je vais perdre 1 ligne, c'est acceptable. Je peux donc effectuer ma jointure :"
   ]
  },
  {
   "cell_type": "code",
   "execution_count": null,
   "id": "a960b1cf",
   "metadata": {},
   "outputs": [],
   "source": [
    "df_left = df_sessions\n",
    "df_right = df_events[['event_id','session_id','event_timestamp','event_type','page','referrer_summary','medium','campaign_id','user_id']]\n",
    "df_analysis = pd.merge(left = df_left, right = df_right, how = 'left', on = ['session_id', 'user_id'])\\\n",
    "                .sort_values(['user_id', 'event_timestamp'])\\\n",
    "                .reset_index(drop=True)"
   ]
  },
  {
   "cell_type": "markdown",
   "id": "f70d2053",
   "metadata": {},
   "source": [
    "**On compte les clicks & CTC par session**"
   ]
  },
  {
   "cell_type": "code",
   "execution_count": null,
   "id": "64b1f811",
   "metadata": {},
   "outputs": [],
   "source": [
    "df_session_clickcount = df_analysis[['session_id','event_type','user_id']]\\\n",
    "                            .groupby(['session_id','event_type'])\\\n",
    "                            .agg({'user_id':'count'})\\\n",
    "                            .reset_index()\\\n",
    "                            .rename(columns={'user_id':'event_count'})\n",
    "\n",
    "df_session_clickcount = df_session_clickcount.sort_values('session_id')\n",
    "\n",
    "# On veut 1 colonne click et 1 colonne CTC, on utilise donc .pivot()\n",
    "df_session_clickcount = df_session_clickcount.pivot(columns='event_type', index='session_id', values='event_count').reset_index()"
   ]
  },
  {
   "cell_type": "code",
   "execution_count": null,
   "id": "5c1b7555",
   "metadata": {},
   "outputs": [],
   "source": [
    "df_analysis = df_analysis.merge(df_session_clickcount, how='left', on='session_id')"
   ]
  },
  {
   "cell_type": "markdown",
   "id": "b251fba8",
   "metadata": {},
   "source": [
    "**On crée une colonne où, pour chaque event, toutes les lignes renvoient le timestamp du CTC qui a eu lieu dans la même session, s'il y en a eu un**"
   ]
  },
  {
   "cell_type": "code",
   "execution_count": null,
   "id": "56bcb11f",
   "metadata": {},
   "outputs": [],
   "source": [
    "df_ctc_timestamp = df_analysis[df_analysis['event_type']=='CTC'][['session_id', 'user_id', 'event_timestamp']]\\\n",
    "                        .rename(columns={'event_timestamp':'CTC_timestamp'})\n",
    "\n",
    "df_analysis = df_analysis.merge(df_ctc_timestamp, how='left', on=['session_id', 'user_id'])"
   ]
  },
  {
   "cell_type": "markdown",
   "id": "f58b024a",
   "metadata": {},
   "source": [
    "**On crée un boolean qui indique si la session de chaque événement est la 1ère de l'utilisateur ou non**"
   ]
  },
  {
   "cell_type": "code",
   "execution_count": null,
   "id": "6564e861",
   "metadata": {},
   "outputs": [],
   "source": [
    "df_first_session = df_sessions[['user_id','session_started_at']]\\\n",
    "                        .sort_values(['user_id', 'session_started_at'])\\\n",
    "                        .groupby('user_id')\\\n",
    "                        .agg({'session_started_at':'min'}).reset_index()\\\n",
    "                        .rename(columns={'session_started_at':'first_session_started_at'})\n",
    "\n",
    "df_analysis = df_analysis.merge(df_first_session, how='left', on='user_id')\n",
    "\n",
    "df_analysis['is_first_session'] = (df_analysis['session_started_at'] == df_analysis['first_session_started_at'])"
   ]
  },
  {
   "cell_type": "markdown",
   "id": "4e12bd84",
   "metadata": {},
   "source": [
    "**Q =** Toute session commence-t-elle par un event ?"
   ]
  },
  {
   "cell_type": "code",
   "execution_count": null,
   "id": "21b3ff7b",
   "metadata": {},
   "outputs": [],
   "source": [
    "df_start = df_analysis[df_analysis['session_started_at'] == df_analysis['event_timestamp']]\n",
    "df_start.shape[0]"
   ]
  },
  {
   "cell_type": "code",
   "execution_count": null,
   "id": "9cc5d397",
   "metadata": {},
   "outputs": [],
   "source": [
    "(df_sessions['session_id'].notna()).sum()"
   ]
  },
  {
   "cell_type": "markdown",
   "id": "f4eced57",
   "metadata": {},
   "source": [
    "**R =** La *plupart* des sessions commencent par un event"
   ]
  },
  {
   "cell_type": "markdown",
   "id": "dc0a39e8",
   "metadata": {},
   "source": [
    "**Q =** Quid de celles qui ne commencent pas par un event ?"
   ]
  },
  {
   "cell_type": "code",
   "execution_count": null,
   "id": "d648798a",
   "metadata": {},
   "outputs": [],
   "source": [
    "df_weird_sessions = df_sessions[(~df_sessions['session_id'].isin(df_start['session_id'])) & (df_sessions['session_id'].notna())]\n",
    "df_weird_sessions.shape[0]"
   ]
  },
  {
   "cell_type": "markdown",
   "id": "698b802f",
   "metadata": {},
   "source": [
    "On retrouve nos 20514 - 20266 = 248 sessions qui ne commencent pas par un event"
   ]
  },
  {
   "cell_type": "markdown",
   "id": "6dfdd82a",
   "metadata": {},
   "source": [
    "On reprend notre df_analysis mais on filtre les session_id, pour avoir les calculs effectués précédemment, appliqués à ces sessions-là"
   ]
  },
  {
   "cell_type": "code",
   "execution_count": null,
   "id": "c47afd57",
   "metadata": {},
   "outputs": [],
   "source": [
    "df_events[df_events['session_id'].isin(df_weird_sessions['session_id'])]"
   ]
  },
  {
   "cell_type": "markdown",
   "id": "863f3a42",
   "metadata": {},
   "source": [
    "**R =** Ces sessions ne commencent pas par un événement, pour la simple et bonne raison qu'*il n'y a pas d'événement associé à ces sessions dans df_events*\n",
    "\n",
    "Ce sont donc des sessions d'utilisateurs enregistrés dans df_events, mais dont les sessions n'ont généré aucun événement"
   ]
  },
  {
   "cell_type": "markdown",
   "id": "93e1ff7e",
   "metadata": {},
   "source": [
    "**CONCLUSION** : en dehors de 248 sessions qui n'ont généré aucun événement, les 20266 autres sessions commencent toutes par un événement"
   ]
  },
  {
   "cell_type": "markdown",
   "id": "2edec3c0",
   "metadata": {},
   "source": [
    "**Création d'une sous-table centrée sur les utilisateurs ayant fait un CTC**"
   ]
  },
  {
   "cell_type": "code",
   "execution_count": null,
   "id": "f1996fe3",
   "metadata": {},
   "outputs": [],
   "source": [
    "# Je me limite aux sessions qui aboutissent sur un CTC\n",
    "df_ctc_users = df_analysis[df_analysis['CTC']>0][['session_id','user_id','CTC_timestamp']]\n",
    "\n",
    "# Pour l'instant, pour chaque session, j'ai autant de lignes que d'événements\n",
    "# Je n'en veux qu'une seule : \n",
    "    # Pour le tout 1er CTC de l'utilisateur : le 1er CTC de chaque sessions (.agg(min))\n",
    "    # Pour celle du 1er CTC de la session : le dernier CTC de chaque sessions (.agg(max))"
   ]
  },
  {
   "cell_type": "markdown",
   "id": "c41e6a25",
   "metadata": {},
   "source": [
    "**Premier CTC de chaque utilisateur**"
   ]
  },
  {
   "cell_type": "code",
   "execution_count": null,
   "id": "5060688e",
   "metadata": {},
   "outputs": [],
   "source": [
    "# 1er CTC de chaque session :\n",
    "df_firstctc = df_ctc_users.groupby(['session_id','user_id']).agg({'CTC_timestamp':'min'}).reset_index()\n",
    "\n",
    "# On trie par date, puis on supprime les doublons pour ne garder que le 1er CTC de chaque utilisateur\n",
    "df_firstctc = df_firstctc.sort_values(['user_id','CTC_timestamp']).drop_duplicates('user_id')\n",
    "\n",
    "# On rajoute la date/heure du dédut de session et les infos marketing liées à cette session\n",
    "df_firstctc = df_firstctc.merge(df_analysis[['session_id', 'event_timestamp', 'campaign_id', 'medium', 'referrer_summary']]\\\n",
    "                                   .sort_values(['session_id', 'event_timestamp'])\\\n",
    "                                   .drop_duplicates('session_id'),\\\n",
    "                                how='left', on='session_id')\\\n",
    "                        .rename(columns = {'event_timestamp':'session_started_at'})"
   ]
  },
  {
   "cell_type": "markdown",
   "id": "dc73c532",
   "metadata": {},
   "source": [
    "**On ajoute ensuite les données de conversion : en prospect, en client** "
   ]
  },
  {
   "cell_type": "code",
   "execution_count": null,
   "id": "94b58903",
   "metadata": {},
   "outputs": [],
   "source": [
    "df_firstctc = df_firstctc.merge(df_prospects[['user_id', 'prospect_creation_date', 'is_client']], how='left', on='user_id')"
   ]
  },
  {
   "cell_type": "markdown",
   "id": "e4680b9e",
   "metadata": {},
   "source": [
    "Sur 2157 users distincts ayant fait un CTC, 2060 sont devenus des prospects"
   ]
  },
  {
   "cell_type": "markdown",
   "id": "ebd87a03",
   "metadata": {},
   "source": [
    "**Analyse par page**"
   ]
  },
  {
   "cell_type": "markdown",
   "id": "5b6eb95b",
   "metadata": {},
   "source": [
    "On veut calculer le nb de visites et le temps passé sur chaque page par utilisateur\n",
    "\n",
    "Il faut pour cela regarder la durée de chaque événement\n",
    "\n",
    "Deux méthodes de calcul :\n",
    "- *Si l'événement **n'est pas** le dernier de sa session* : event_timestamp de l'événement juste après dans la même session *moins* event_timestamp de l'événement considéré \n",
    "- *Si l'événement **est** le dernier de sa session* : session_ended_at *moins* event_timestamp de l'événement considéré"
   ]
  },
  {
   "cell_type": "code",
   "execution_count": null,
   "id": "14da7fc0",
   "metadata": {},
   "outputs": [],
   "source": [
    "# On extrait les données requises de table analysis (sessions left join events)\n",
    "df_page_visits = df_analysis[['user_id', 'event_timestamp', 'session_started_at', 'session_ended_at', 'event_type', 'page']]"
   ]
  },
  {
   "cell_type": "code",
   "execution_count": null,
   "id": "cd223361",
   "metadata": {},
   "outputs": [],
   "source": [
    "# On trie par user_id et par date/heure d'événement\n",
    "df_page_visits = df_page_visits.sort_values(['user_id', 'event_timestamp'])\n",
    "\n",
    "# On crée une colonne avec la date/heure de l'événement juste après\n",
    "df_page_visits['next_event'] = df_page_visits['event_timestamp'].shift(-1)\n",
    "\n",
    "# Quand je tombe sur un NaN dans event_timestamp (session sans événement),\n",
    "# event_timestamp prend la valeur de session_started_at\n",
    "df_page_visits['event_timestamp'] = df_page_visits['event_timestamp'].fillna(df_page_visits['session_started_at'])\n",
    "\n",
    "# Quand je tombe sur un NaN dans next_event (le prochain event est une session sans event),\n",
    "# next_event prend la valeur de event_timestamp\n",
    "df_page_visits['next_event'] = df_page_visits['next_event'].fillna(df_page_visits['event_timestamp'])"
   ]
  },
  {
   "cell_type": "code",
   "execution_count": null,
   "id": "cda74dec",
   "metadata": {},
   "outputs": [],
   "source": [
    "# On extrait le dernier événement de chaque session grâce à un .groupby.agg(max)\n",
    "df_last_event = df_page_visits[['user_id', 'session_started_at', 'event_timestamp']]\\\n",
    "                    .groupby(['user_id', 'session_started_at'])\\\n",
    "                    .agg({'event_timestamp':'max'})\\\n",
    "                    .reset_index()\\\n",
    "                    .rename(columns={'event_timestamp':'last_event_timestamp'})\n",
    "\n",
    "# On l'ajoute à notre table précédemment créée\n",
    "df_page_visits = df_page_visits.merge(df_last_event, on=['user_id', 'session_started_at'])\n",
    "\n",
    "# On crée une colonne indiquant si chaque événement est le dernier de sa session ou non\n",
    "df_page_visits['is_last_event'] = (df_page_visits['last_event_timestamp'] == df_page_visits['event_timestamp'])"
   ]
  },
  {
   "cell_type": "code",
   "execution_count": null,
   "id": "acbd959a",
   "metadata": {},
   "outputs": [],
   "source": [
    "# Si l'événement N'EST PAS le dernier de sa session, c'est la ligne 2 qui s'active\n",
    "# La durée de l'événement est alors égale à next_event moins event_timestamp\n",
    "# Si au contraire l'événement EST le dernier de sa session, c'est la ligne 3 qui s'active\n",
    "# La durée de l'événement est alors égale à session_ended_at moins event_timestamp\n",
    "df_page_visits['event_duration_in_sec'] =\\\n",
    "    (df_page_visits['next_event'] - df_page_visits['event_timestamp'])*(~df_page_visits['is_last_event']) +\\\n",
    "    (df_page_visits['session_ended_at'] - df_page_visits['event_timestamp'])*(df_page_visits['is_last_event'])\n",
    "\n",
    "# Si on n'avait pas traité les NaN précédemment, on aurait eu des erreurs\n",
    "# Les sessions sans events activent la ligne 3, avec event_timestamp = session_started_at,\n",
    "# donc la différence devient égale à la durée de la session"
   ]
  },
  {
   "cell_type": "code",
   "execution_count": null,
   "id": "6ada5b47",
   "metadata": {},
   "outputs": [],
   "source": [
    "# On convertit les event_duration en secondes (au lieu de timedelta)\n",
    "df_page_visits['event_duration_in_sec'] = df_page_visits['event_duration_in_sec'].dt.total_seconds()\n",
    "\n",
    "# On extrait la colonne event_duration\n",
    "df_event_duration = df_page_visits[['user_id', 'event_timestamp', 'event_duration_in_sec']]\n",
    "\n",
    "# On rajoute une colonne pour savoir si l'événement est un CTC\n",
    "df_page_visits['is_CTC'] = (df_page_visits['event_type']=='CTC')\n",
    "\n",
    "# On crée une copie de df_page_visits. \n",
    "# df_sessions_breakdown nous servira plus tard à l'analyse par campagne / par medium / par partenaire\n",
    "# df_page_visits sera transformé dans l'Objectif B pour l'analyse de visites de page par user\n",
    "\n",
    "df_sessions_breakdown = df_page_visits"
   ]
  },
  {
   "cell_type": "markdown",
   "id": "b692d759",
   "metadata": {},
   "source": [
    "### 5.A Analyse par campagne"
   ]
  },
  {
   "cell_type": "markdown",
   "id": "f7a5c037",
   "metadata": {},
   "source": [
    "**On vérifie qu'on peut faire un groupby par session_id**\n",
    "\n",
    "(en regardant si les session_id = NaN peuvent quand même avoir un campaign_id)"
   ]
  },
  {
   "cell_type": "code",
   "execution_count": null,
   "id": "18624d98",
   "metadata": {},
   "outputs": [],
   "source": [
    "df_analysis[df_analysis['session_id'].isna()]['campaign_id'].value_counts()"
   ]
  },
  {
   "cell_type": "markdown",
   "id": "d9db919c",
   "metadata": {},
   "source": [
    "Réponse : non, donc on peut groupby par session_id"
   ]
  },
  {
   "cell_type": "markdown",
   "id": "688b4413",
   "metadata": {},
   "source": [
    "**On vérifie ensuite qu'à chaque session est associée une unique campagne**"
   ]
  },
  {
   "cell_type": "code",
   "execution_count": null,
   "id": "8be23cf1",
   "metadata": {},
   "outputs": [],
   "source": [
    "df_analysis[['session_id', 'campaign_id']].groupby('session_id').value_counts()"
   ]
  },
  {
   "cell_type": "markdown",
   "id": "47a3dc6d",
   "metadata": {},
   "source": [
    "Réponse : oui"
   ]
  },
  {
   "cell_type": "markdown",
   "id": "8689993c",
   "metadata": {},
   "source": [
    "**Pour chaque campagne, on commence par calculer le nombre de clics, le nombre de sessions, le temps en ligne**"
   ]
  },
  {
   "cell_type": "code",
   "execution_count": null,
   "id": "067c2fad",
   "metadata": {},
   "outputs": [],
   "source": [
    "# On extrait les colonnes qui nous intéressent\n",
    "df_sessions_campaigns = df_analysis[['campaign_id', 'session_id', 'session_duration', 'is_first_session', 'click', 'CTC']]\n",
    "\n",
    "# On ne garde qu'une ligne par session, puisqu'on a déjà des colonnes qui comptent les clicks / CTC / durée de session\n",
    "df_sessions_campaigns = df_sessions_campaigns.drop_duplicates(subset='session_id')\n",
    "\n",
    "print(f\"Nombre de campaign_id = NaN (et donc autant de sessions perdues): {df_sessions_campaigns['campaign_id'].isna().sum()}\")\n",
    "\n",
    "# On remplace les NaN par zéro\n",
    "df_sessions_campaigns[['click', 'CTC']] = df_sessions_campaigns[['click', 'CTC']].fillna(0)\n",
    "\n",
    "# On procède à un groupby + agg\n",
    "dico_agg = {\n",
    "    'session_id':'count',\n",
    "    'session_duration':['sum', 'mean'],\n",
    "    'is_first_session':['sum','mean'],\n",
    "    'click':['sum', 'mean'],\n",
    "    'CTC':['sum', 'mean']\n",
    "}\n",
    "\n",
    "df_sessions_campaigns = df_sessions_campaigns.groupby('campaign_id')\\\n",
    "                            .agg(dico_agg)\\\n",
    "                            .reset_index()\n",
    "\n",
    "# On traite chaque bloc du tableau pour supprimer le niveau 0 et renommer les colonnes de la bonne façon\n",
    "df_sessions_count = df_sessions_campaigns[['campaign_id', 'session_id']]\\\n",
    "                            .droplevel(level=0, axis=1)\\\n",
    "                            .rename(columns={'':'campaign_id', 'count':'session_count'})\n",
    "\n",
    "df_sessions_duration = df_sessions_campaigns[['campaign_id', 'session_duration']]\\\n",
    "                            .droplevel(level=0, axis=1)\\\n",
    "                            .rename(columns={'':'campaign_id', 'sum':'sum_duration_in_min', 'mean':'mean_duration_in_min'})\n",
    "\n",
    "df_sessions_first = df_sessions_campaigns[['campaign_id', 'is_first_session']]\\\n",
    "                            .droplevel(level=0, axis=1)\\\n",
    "                            .rename(columns={'':'campaign_id', 'sum':'sum_first_session', 'mean':'prop_first_session'})\n",
    "\n",
    "df_sessions_click = df_sessions_campaigns[['campaign_id', 'click']]\\\n",
    "                            .droplevel(level=0, axis=1)\\\n",
    "                            .rename(columns={'':'campaign_id', 'sum':'sum_click', 'mean':'mean_click'})\n",
    "\n",
    "df_sessions_ctc = df_sessions_campaigns[['campaign_id', 'CTC']]\\\n",
    "                            .droplevel(level=0, axis=1)\\\n",
    "                            .rename(columns={'':'campaign_id', 'sum':'sum_ctc', 'mean':'prop_ctc'})\n",
    "\n",
    "# On fusionne tout\n",
    "df_sessions_campaigns = df_sessions_count\\\n",
    "                            .merge(df_sessions_duration, on='campaign_id')\\\n",
    "                            .merge(df_sessions_first, on='campaign_id')\\\n",
    "                            .merge(df_sessions_click, on='campaign_id')\\\n",
    "                            .merge(df_sessions_ctc, on='campaign_id')\\\n",
    "                            .merge(df_campaigns, on='campaign_id')\n",
    "\n",
    "# On arrondit la durée totale en minutes\n",
    "df_sessions_campaigns['sum_duration_in_min'] = round(\\\n",
    "                                                df_sessions_campaigns['sum_duration_in_min'].dt.days*24*60 +\\\n",
    "                                                df_sessions_campaigns['sum_duration_in_min'].dt.seconds/60\\\n",
    "                                                    ).astype(int)\n",
    "df_sessions_campaigns['mean_duration_in_min'] = round(\\\n",
    "                                                    df_sessions_campaigns['mean_duration_in_min'].dt.seconds/60\\\n",
    "                                                        ).astype(int)\n",
    "\n",
    "# On calcule des ratios de coûts à différentes étapes du marketing funnel\n",
    "df_sessions_campaigns['cost_per_session'] = df_sessions_campaigns['total_cost'] / df_sessions_campaigns['session_count']\n",
    "\n",
    "df_sessions_campaigns['cost_per_click'] = df_sessions_campaigns['total_cost'] / df_sessions_campaigns['sum_click']\n",
    "\n",
    "df_sessions_campaigns['cost_per_min'] = df_sessions_campaigns['total_cost'] / df_sessions_campaigns['sum_duration_in_min']\n",
    "\n",
    "df_sessions_campaigns['cost_per_ctc'] = df_sessions_campaigns['total_cost'] / df_sessions_campaigns['sum_ctc']"
   ]
  },
  {
   "cell_type": "markdown",
   "id": "10cfa048",
   "metadata": {},
   "source": [
    "**On reprend la table des 1ers CTCs, et on groupe par campagne, pour calculer leurs nombres de prospects créés CTC puis convertis en clients**"
   ]
  },
  {
   "cell_type": "code",
   "execution_count": null,
   "id": "12053e67",
   "metadata": {},
   "outputs": [],
   "source": [
    "dico_agg = {\n",
    "    'user_id':'count',\n",
    "    'prospect_creation_date':'count',\n",
    "    'is_client':'sum'\n",
    "}\n",
    "\n",
    "dico_rename = {\n",
    "    'user_id':'users_on_CTC',\n",
    "    'prospect_creation_date':'prospect_created',\n",
    "    'is_client':'client_acquired'\n",
    "}\n",
    "\n",
    "df_ctc_campaign = df_firstctc[['campaign_id', 'user_id', 'prospect_creation_date', 'is_client']]\\\n",
    "                        .groupby('campaign_id')\\\n",
    "                        .agg(dico_agg)\\\n",
    "                        .reset_index()\\\n",
    "                        .rename(columns = dico_rename)"
   ]
  },
  {
   "cell_type": "code",
   "execution_count": null,
   "id": "e1ef7c9f",
   "metadata": {},
   "outputs": [],
   "source": [
    "df_ctc_campaign['prospect_created'].sum() + df_firstctc['campaign_id'].isna().sum()"
   ]
  },
  {
   "cell_type": "markdown",
   "id": "f6798ad8",
   "metadata": {},
   "source": [
    "**Pour chaque campagne, on compte les redirections vers chaque page (au début des sessions)**"
   ]
  },
  {
   "cell_type": "code",
   "execution_count": null,
   "id": "78551465",
   "metadata": {},
   "outputs": [],
   "source": [
    "df_campaigns_redirect = df_analysis[df_analysis['campaign_id'].notna()][['campaign_id','page']].value_counts().to_frame()\\\n",
    "                            .sort_values(['campaign_id', 'page']).reset_index()\\\n",
    "                            .pivot(index='campaign_id', columns='page', values='count').reset_index()\\\n",
    "                            .rename(columns={\n",
    "                            '1':'redirect_p1',\n",
    "                            '2':'redirect_p2',\n",
    "                            '3':'redirect_p3',\n",
    "                            '4':'redirect_p4',\n",
    "                            '5':'redirect_p5',\n",
    "                            '6':'redirect_p6'\n",
    "                        })"
   ]
  },
  {
   "cell_type": "markdown",
   "id": "f446b05d",
   "metadata": {},
   "source": [
    "**On calcule le temps sur chaque page (en absolu et en %), le nombre de CTC par page (en absolu et en %)**"
   ]
  },
  {
   "cell_type": "code",
   "execution_count": null,
   "id": "a64f70a3",
   "metadata": {},
   "outputs": [],
   "source": [
    "# Tableau pour afficher des graphes par page en utilisant le paramètre \"hue\"\n",
    "\n",
    "# On extrait les colonnes requises du tableau df_sessions_breakdown\n",
    "df_campaign_pagefocus = df_sessions_breakdown[['user_id', 'session_started_at', 'page', 'event_duration_in_sec', 'is_CTC']]\n",
    "\n",
    "# groupby: on groupe par session et par page\n",
    "# agg : Pour chaque session, on calcule la somme du temps passé par page, et le nombre de CTC par page \n",
    "df_campaign_pagefocus = df_campaign_pagefocus.groupby(['user_id', 'session_started_at', 'page'])\\\n",
    "                            .agg({'event_duration_in_sec':'sum', 'is_CTC': 'sum'})\\\n",
    "                            .reset_index()\n",
    "\n",
    "# Pour chacune de ces sessions, on ajoute la campagne qui a initié la session \n",
    "df_campaign_pagefocus = df_campaign_pagefocus.merge(df_analysis[['user_id', 'session_started_at', 'campaign_id']]\\\n",
    "                                                        .dropna(subset='campaign_id'),\\\n",
    "                                                    on=['user_id', 'session_started_at'])\n",
    "\n",
    "# drop: on se débarasse des références à la session \n",
    "# groupby : on groupe une nouvelle fois par campagne et par page\n",
    "# agg : pour chacune des campagnes, on calcule le temps passé par les utilisateurs sur chaque page, et le nb de CTC par page\n",
    "df_campaign_pagefocus = df_campaign_pagefocus.drop(columns=['user_id', 'session_started_at'])\\\n",
    "                            .groupby(['campaign_id', 'page'])\\\n",
    "                            .agg({'event_duration_in_sec':'sum', 'is_CTC': 'sum'})\\\n",
    "                            .reset_index()\\\n",
    "                            .rename(columns={'event_duration_in_sec':'cumul_time_in_sec', 'is_CTC':'CTC_count'})"
   ]
  },
  {
   "cell_type": "code",
   "execution_count": null,
   "id": "d92b6bb0",
   "metadata": {},
   "outputs": [],
   "source": [
    "# Tableau pivoté\n",
    "# Même principe au début\n",
    "df_campaign_pagefocus_pivot = df_sessions_breakdown[['user_id', 'session_started_at', 'page', 'event_duration_in_sec', 'is_CTC']]\\\n",
    "                                .groupby(['user_id', 'session_started_at', 'page'])\\\n",
    "                                .agg({'event_duration_in_sec':'sum', 'is_CTC': 'sum'})\\\n",
    "                                .reset_index()\\\n",
    "                                .merge(df_analysis[['user_id', 'session_started_at', 'campaign_id']].dropna(subset='campaign_id'),\\\n",
    "                                       on=['user_id', 'session_started_at'])\\\n",
    "                                .drop(columns=['user_id', 'session_started_at'])\\\n",
    "                                .groupby(['campaign_id', 'page'])\\\n",
    "                                .agg({'event_duration_in_sec':'sum', 'is_CTC': 'sum'})\\\n",
    "                                .reset_index()\n",
    "\n",
    "# On rajoute un pivot pour avoir une colonne par page, pour chaque indicateur\n",
    "df_campaign_pagefocus_pivot = df_campaign_pagefocus_pivot.pivot(index='campaign_id', columns='page', values=['event_duration_in_sec', 'is_CTC'])\\\n",
    "                                .reset_index()\\\n",
    "# On cleane ensuite par bloc :\n",
    "df_campaign_pagetime = df_campaign_pagefocus_pivot['event_duration_in_sec']\\\n",
    "                        .rename(columns={\n",
    "                            '1':'cumul_time_p1',\n",
    "                            '2':'cumul_time_p2',\n",
    "                            '3':'cumul_time_p3',\n",
    "                            '4':'cumul_time_p4',\n",
    "                            '5':'cumul_time_p5',\n",
    "                            '6':'cumul_time_p6'\n",
    "                        })\n",
    "\n",
    "df_campaign_pagectc = df_campaign_pagefocus_pivot['is_CTC']\\\n",
    "                        .rename(columns={\n",
    "                            '1':'CTC_count_p1',\n",
    "                            '2':'CTC_count_p2',\n",
    "                            '3':'CTC_count_p3',\n",
    "                            '4':'CTC_count_p4',\n",
    "                            '5':'CTC_count_p5',\n",
    "                            '6':'CTC_count_p6'\n",
    "                        })\n",
    "\n",
    "# On concatène le tout\n",
    "df_campaign_pagefocus_pivot = pd.concat([\n",
    "                                df_campaign_pagefocus_pivot['campaign_id'], \n",
    "                                df_campaign_pagetime, \n",
    "                                df_campaign_pagectc\n",
    "                                ],axis=1)"
   ]
  },
  {
   "cell_type": "code",
   "execution_count": null,
   "id": "3e7beef1",
   "metadata": {},
   "outputs": [],
   "source": [
    "# On calcule des sommes pour ensuite calculer des %\n",
    "df_campaign_pagefocus_pivot['cumul_time_all']=\\\n",
    "    df_campaign_pagefocus_pivot[['cumul_time_p1','cumul_time_p2','cumul_time_p3','cumul_time_p4','cumul_time_p5','cumul_time_p6']]\\\n",
    "    .sum(axis=1)\n",
    "\n",
    "df_campaign_pagefocus_pivot['CTC_count_all']=\\\n",
    "    df_campaign_pagefocus_pivot[['CTC_count_p1','CTC_count_p2','CTC_count_p3','CTC_count_p4','CTC_count_p5','CTC_count_p6']]\\\n",
    "    .sum(axis=1)"
   ]
  },
  {
   "cell_type": "code",
   "execution_count": null,
   "id": "620d208b",
   "metadata": {},
   "outputs": [],
   "source": [
    "# Calcul des % par page pour les 2 indicateurs\n",
    "df_campaign_pagefocus_pivot['prop_time_p1']= df_campaign_pagefocus_pivot['cumul_time_p1'] / df_campaign_pagefocus_pivot['cumul_time_all']\n",
    "df_campaign_pagefocus_pivot['prop_time_p2']= df_campaign_pagefocus_pivot['cumul_time_p2'] / df_campaign_pagefocus_pivot['cumul_time_all']\n",
    "df_campaign_pagefocus_pivot['prop_time_p3']= df_campaign_pagefocus_pivot['cumul_time_p3'] / df_campaign_pagefocus_pivot['cumul_time_all']\n",
    "df_campaign_pagefocus_pivot['prop_time_p4']= df_campaign_pagefocus_pivot['cumul_time_p4'] / df_campaign_pagefocus_pivot['cumul_time_all']\n",
    "df_campaign_pagefocus_pivot['prop_time_p5']= df_campaign_pagefocus_pivot['cumul_time_p5'] / df_campaign_pagefocus_pivot['cumul_time_all']\n",
    "df_campaign_pagefocus_pivot['prop_time_p6']= df_campaign_pagefocus_pivot['cumul_time_p6'] / df_campaign_pagefocus_pivot['cumul_time_all']\n",
    "\n",
    "df_campaign_pagefocus_pivot['prop_CTC_p1']= df_campaign_pagefocus_pivot['CTC_count_p1'] / df_campaign_pagefocus_pivot['CTC_count_all']\n",
    "df_campaign_pagefocus_pivot['prop_CTC_p2']= df_campaign_pagefocus_pivot['CTC_count_p2'] / df_campaign_pagefocus_pivot['CTC_count_all']\n",
    "df_campaign_pagefocus_pivot['prop_CTC_p3']= df_campaign_pagefocus_pivot['CTC_count_p3'] / df_campaign_pagefocus_pivot['CTC_count_all']\n",
    "df_campaign_pagefocus_pivot['prop_CTC_p4']= df_campaign_pagefocus_pivot['CTC_count_p4'] / df_campaign_pagefocus_pivot['CTC_count_all']\n",
    "df_campaign_pagefocus_pivot['prop_CTC_p5']= df_campaign_pagefocus_pivot['CTC_count_p5'] / df_campaign_pagefocus_pivot['CTC_count_all']\n",
    "df_campaign_pagefocus_pivot['prop_CTC_p6']= df_campaign_pagefocus_pivot['CTC_count_p6'] / df_campaign_pagefocus_pivot['CTC_count_all']"
   ]
  },
  {
   "cell_type": "markdown",
   "id": "e4695fe7",
   "metadata": {},
   "source": [
    "**Méga-jointure**"
   ]
  },
  {
   "cell_type": "code",
   "execution_count": null,
   "id": "54c401bd",
   "metadata": {
    "scrolled": false
   },
   "outputs": [],
   "source": [
    "df_campaigns_metrics = pd.merge(left = df_sessions_campaigns, right = df_ctc_campaign, on = 'campaign_id')\\\n",
    "                            .merge(df_campaigns_redirect, on='campaign_id')\\\n",
    "                            .merge(df_campaign_pagefocus_pivot, on='campaign_id').drop(columns=['CTC_count_all', 'cumul_time_all'])"
   ]
  },
  {
   "cell_type": "markdown",
   "id": "98f6bb49",
   "metadata": {},
   "source": [
    "**Calcul du coût par prospect et par client**"
   ]
  },
  {
   "cell_type": "code",
   "execution_count": null,
   "id": "2262a2af",
   "metadata": {},
   "outputs": [],
   "source": [
    "df_campaigns_metrics['cost_per_prospect'] = df_campaigns_metrics['total_cost'] / df_campaigns_metrics['prospect_created']\n",
    "df_campaigns_metrics['cost_per_client'] = df_campaigns_metrics['total_cost'] / df_campaigns_metrics['client_acquired']"
   ]
  },
  {
   "cell_type": "markdown",
   "id": "9af370f1",
   "metadata": {},
   "source": [
    "**Tableau final**"
   ]
  },
  {
   "cell_type": "code",
   "execution_count": null,
   "id": "aebfa761",
   "metadata": {},
   "outputs": [],
   "source": [
    "df_campaigns_metrics"
   ]
  },
  {
   "cell_type": "markdown",
   "id": "cc57c3bc",
   "metadata": {},
   "source": [
    "### 5.A Analyse par canal"
   ]
  },
  {
   "cell_type": "markdown",
   "id": "e46e5c64",
   "metadata": {},
   "source": [
    "**Pour chaque canal (medium), on commence par calculer le nombre de clics, le nombre de sessions, le temps en ligne**"
   ]
  },
  {
   "cell_type": "code",
   "execution_count": null,
   "id": "39cf00b0",
   "metadata": {
    "scrolled": false
   },
   "outputs": [],
   "source": [
    "# On extrait les colonnes qui nous intéressent\n",
    "df_sessions_medium = df_analysis[['medium', 'session_id', 'session_duration', 'is_first_session', 'click', 'CTC']]\n",
    "\n",
    "# On ne garde qu'une ligne par session, puisqu'on a déjà des colonnes qui comptent les clicks / CTC / durée de session\n",
    "df_sessions_medium = df_sessions_medium.drop_duplicates(subset='session_id')\n",
    "\n",
    "# On remplace les NaN par zéro\n",
    "df_sessions_medium[['click', 'CTC']] = df_sessions_medium[['click', 'CTC']].fillna(0)\n",
    "\n",
    "# On procède à un groupby + agg\n",
    "dico_agg = {\n",
    "    'session_id':'count',\n",
    "    'session_duration':['sum', 'mean'],\n",
    "    'is_first_session':['sum', 'mean'],\n",
    "    'click':['sum', 'mean'],\n",
    "    'CTC':['sum', 'mean']\n",
    "}\n",
    "\n",
    "df_sessions_medium = df_sessions_medium.groupby('medium')\\\n",
    "                            .agg(dico_agg)\n",
    "\n",
    "df_sessions_medium = df_sessions_medium.reset_index()\n",
    "\n",
    "# On traite chaque bloc du tableau pour supprimer le niveau 0 et renommer les colonnes de la bonne façon\n",
    "df_sessions_count = df_sessions_medium[['medium', 'session_id']]\\\n",
    "                            .droplevel(level=0, axis=1)\\\n",
    "                            .rename(columns={'':'medium', 'count':'session_count'})\n",
    "\n",
    "df_sessions_duration = df_sessions_medium[['medium', 'session_duration']]\\\n",
    "                            .droplevel(level=0, axis=1)\\\n",
    "                            .rename(columns={'':'medium', 'sum':'sum_duration_in_min', 'mean':'mean_duration_in_min'})\n",
    "\n",
    "df_sessions_first = df_sessions_medium[['medium', 'is_first_session']]\\\n",
    "                            .droplevel(level=0, axis=1)\\\n",
    "                            .rename(columns={'':'medium', 'sum':'sum_first_session', 'mean':'prop_first_session'})\n",
    "\n",
    "df_sessions_click = df_sessions_medium[['medium', 'click']]\\\n",
    "                            .droplevel(level=0, axis=1)\\\n",
    "                            .rename(columns={'':'medium', 'sum':'sum_click', 'mean':'mean_click'})\n",
    "\n",
    "df_sessions_ctc = df_sessions_medium[['medium', 'CTC']]\\\n",
    "                            .droplevel(level=0, axis=1)\\\n",
    "                            .rename(columns={'':'medium', 'sum':'sum_ctc', 'mean':'prop_ctc'})\n",
    "\n",
    "# On fusionne tout\n",
    "df_sessions_medium = df_sessions_count\\\n",
    "                            .merge(df_sessions_duration, on='medium')\\\n",
    "                            .merge(df_sessions_first, on='medium')\\\n",
    "                            .merge(df_sessions_click, on='medium')\\\n",
    "                            .merge(df_sessions_ctc, on='medium')\\\n",
    "\n",
    "# On arrondit la durée totale en minutes\n",
    "df_sessions_medium['sum_duration_in_min'] = round(\\\n",
    "                                                df_sessions_medium['sum_duration_in_min'].dt.days*24*60 +\\\n",
    "                                                df_sessions_medium['sum_duration_in_min'].dt.seconds/60\\\n",
    "                                                    ).astype(int)\n",
    "df_sessions_medium['mean_duration_in_min'] = round(\\\n",
    "                                                    df_sessions_medium['mean_duration_in_min'].dt.seconds/60\\\n",
    "                                                        ).astype(int)"
   ]
  },
  {
   "cell_type": "markdown",
   "id": "a28134bb",
   "metadata": {},
   "source": [
    "**On reprend la table des 1ers CTCs, et on groupe par medium, pour calculer leurs nombres de prospects créés CTC puis convertis en clients**"
   ]
  },
  {
   "cell_type": "code",
   "execution_count": null,
   "id": "cc4d6d46",
   "metadata": {},
   "outputs": [],
   "source": [
    "dico_agg = {\n",
    "    'user_id':'count',\n",
    "    'prospect_creation_date':'count',\n",
    "    'is_client':'sum'\n",
    "}\n",
    "\n",
    "dico_rename = {\n",
    "    'user_id':'users_on_CTC',\n",
    "    'prospect_creation_date':'prospect_created',\n",
    "    'is_client':'client_acquired'\n",
    "}\n",
    "\n",
    "df_ctc_medium = df_firstctc[['medium', 'user_id', 'prospect_creation_date', 'is_client']]\\\n",
    "                        .groupby('medium')\\\n",
    "                        .agg(dico_agg)\\\n",
    "                        .reset_index()\\\n",
    "                        .rename(columns = dico_rename)"
   ]
  },
  {
   "cell_type": "code",
   "execution_count": null,
   "id": "27d15d0d",
   "metadata": {},
   "outputs": [],
   "source": [
    "df_ctc_medium['prospect_created'].sum()"
   ]
  },
  {
   "cell_type": "markdown",
   "id": "8ebddc01",
   "metadata": {},
   "source": [
    "**Pour chaque medium, on compte les redirections vers chaque page (au début des sessions)**"
   ]
  },
  {
   "cell_type": "code",
   "execution_count": null,
   "id": "9d65a3cf",
   "metadata": {},
   "outputs": [],
   "source": [
    "# On commence par ne prendre les événements de df_analysis que lorsque 'medium' n'est pas une redirection interne\n",
    "# On ne prend que les deux colonnes dont on a besoin\n",
    "df_medium_redirect = df_analysis[df_analysis['medium'].replace('internal', np.nan).notna()][['medium','page']]\n",
    "\n",
    "# On fait un value_counts qu'on pivote ensuite pour avoir 6 colonnes qui comptent le nombre de redirections sur les 6 pages\n",
    "df_medium_redirect = df_medium_redirect.value_counts().to_frame()\\\n",
    "                            .sort_values(['medium', 'page']).reset_index()\\\n",
    "                            .pivot(index='medium', columns='page', values='count').reset_index()\\\n",
    "                            .rename(columns={\n",
    "                            '1':'redirect_p1',\n",
    "                            '2':'redirect_p2',\n",
    "                            '3':'redirect_p3',\n",
    "                            '4':'redirect_p4',\n",
    "                            '5':'redirect_p5',\n",
    "                            '6':'redirect_p6'\n",
    "                        })"
   ]
  },
  {
   "cell_type": "markdown",
   "id": "b88d78b1",
   "metadata": {},
   "source": [
    "**Calcul du temps par page et du nombre de CTC sur chaque page, en absolu et en relatif pour chaque medium**"
   ]
  },
  {
   "cell_type": "code",
   "execution_count": null,
   "id": "5edc5b0f",
   "metadata": {},
   "outputs": [],
   "source": [
    "# Tableau pour afficher des graphes par page en utilisant le paramètre \"hue\"\n",
    "\n",
    "# On extrait les colonnes requises du tableau df_sessions_breakdown\n",
    "df_medium_pagefocus = df_sessions_breakdown[['user_id', 'session_started_at', 'page', 'event_duration_in_sec', 'is_CTC']]\n",
    "\n",
    "# groupby: on groupe par session et par page\n",
    "# agg : Pour chaque session, on calcule la somme du temps passé par page, et le nombre de CTC par page \n",
    "df_medium_pagefocus = df_medium_pagefocus.groupby(['user_id', 'session_started_at', 'page'])\\\n",
    "                        .agg({'event_duration_in_sec':'sum', 'is_CTC': 'sum'})\\\n",
    "                        .reset_index()\n",
    "\n",
    "# Pour chacune de ces sessions, on ajoute le medium qui a initié la session \n",
    "df_medium_pagefocus = df_medium_pagefocus.merge(df_analysis[['user_id', 'session_started_at', 'medium']]\\\n",
    "                                                   .replace('internal', np.nan).dropna(subset='medium'),\\\n",
    "                                               on=['user_id', 'session_started_at'])\n",
    "\n",
    "# drop: on se débarasse des références à la session \n",
    "# groupby : on groupe une nouvelle fois par medium et par page\n",
    "# agg : pour chacun des media, on calcule le temps passé par les utilisateurs sur chaque page, et le nb de CTC par page\n",
    "df_medium_pagefocus = df_medium_pagefocus.drop(columns=['user_id', 'session_started_at'])\\\n",
    "                        .groupby(['medium', 'page'])\\\n",
    "                        .agg({'event_duration_in_sec':'sum', 'is_CTC': 'sum'})\\\n",
    "                        .reset_index()\\\n",
    "                        .rename(columns={'event_duration_in_sec':'cumul_time_in_sec', 'is_CTC':'CTC_count'})"
   ]
  },
  {
   "cell_type": "code",
   "execution_count": null,
   "id": "eca23104",
   "metadata": {
    "scrolled": false
   },
   "outputs": [],
   "source": [
    "# Tableau pivoté\n",
    "# Même principe au début\n",
    "df_medium_pagefocus_pivot = df_sessions_breakdown[['user_id', 'session_started_at', 'page', 'event_duration_in_sec', 'is_CTC']]\\\n",
    "                                .groupby(['user_id', 'session_started_at', 'page'])\\\n",
    "                                .agg({'event_duration_in_sec':'sum', 'is_CTC': 'sum'})\\\n",
    "                                .reset_index()\\\n",
    "                                .merge(df_analysis[['user_id', 'session_started_at', 'medium']]\\\n",
    "                                       .replace('internal', np.nan).dropna(subset='medium'),\\\n",
    "                                       on=['user_id', 'session_started_at'])\\\n",
    "                                .drop(columns=['user_id', 'session_started_at'])\\\n",
    "                                .groupby(['medium', 'page'])\\\n",
    "                                .agg({'event_duration_in_sec':'sum', 'is_CTC': 'sum'})\\\n",
    "                                .reset_index()\n",
    "\n",
    "# On rajoute un pivot pour avoir une colonne par page, pour chaque indicateur\n",
    "df_medium_pagefocus_pivot = df_medium_pagefocus_pivot.pivot(index='medium', columns='page', values=['event_duration_in_sec', 'is_CTC'])\\\n",
    "                                .reset_index()\n",
    "\n",
    "# On cleane ensuite par bloc :\n",
    "df_medium_pagetime = df_medium_pagefocus_pivot['event_duration_in_sec']\\\n",
    "                        .rename(columns={\n",
    "                            '1':'cumul_time_p1',\n",
    "                            '2':'cumul_time_p2',\n",
    "                            '3':'cumul_time_p3',\n",
    "                            '4':'cumul_time_p4',\n",
    "                            '5':'cumul_time_p5',\n",
    "                            '6':'cumul_time_p6'\n",
    "                        })\n",
    "\n",
    "df_medium_pagectc = df_medium_pagefocus_pivot['is_CTC']\\\n",
    "                        .rename(columns={\n",
    "                            '1':'CTC_count_p1',\n",
    "                            '2':'CTC_count_p2',\n",
    "                            '3':'CTC_count_p3',\n",
    "                            '4':'CTC_count_p4',\n",
    "                            '5':'CTC_count_p5',\n",
    "                            '6':'CTC_count_p6'\n",
    "                        })\n",
    "\n",
    "# On concatène le tout\n",
    "df_medium_pagefocus_pivot = pd.concat([\n",
    "                                df_medium_pagefocus_pivot['medium'], \n",
    "                                df_medium_pagetime, \n",
    "                                df_medium_pagectc\n",
    "                                ],axis=1)"
   ]
  },
  {
   "cell_type": "code",
   "execution_count": null,
   "id": "196f2797",
   "metadata": {},
   "outputs": [],
   "source": [
    "# On calcule des totaux pour ensuite calculer des %\n",
    "df_medium_pagefocus_pivot['cumul_time_all']=\\\n",
    "    df_medium_pagefocus_pivot[['cumul_time_p1','cumul_time_p2','cumul_time_p3','cumul_time_p4','cumul_time_p5','cumul_time_p6']]\\\n",
    "    .sum(axis=1)\n",
    "\n",
    "df_medium_pagefocus_pivot['CTC_count_all']=\\\n",
    "    df_medium_pagefocus_pivot[['CTC_count_p1','CTC_count_p2','CTC_count_p3','CTC_count_p4','CTC_count_p5','CTC_count_p6']]\\\n",
    "    .sum(axis=1)"
   ]
  },
  {
   "cell_type": "code",
   "execution_count": null,
   "id": "bb97b8f9",
   "metadata": {},
   "outputs": [],
   "source": [
    "# Calcul des %\n",
    "df_medium_pagefocus_pivot['prop_time_p1']= df_medium_pagefocus_pivot['cumul_time_p1'] / df_medium_pagefocus_pivot['cumul_time_all']\n",
    "df_medium_pagefocus_pivot['prop_time_p2']= df_medium_pagefocus_pivot['cumul_time_p2'] / df_medium_pagefocus_pivot['cumul_time_all']\n",
    "df_medium_pagefocus_pivot['prop_time_p3']= df_medium_pagefocus_pivot['cumul_time_p3'] / df_medium_pagefocus_pivot['cumul_time_all']\n",
    "df_medium_pagefocus_pivot['prop_time_p4']= df_medium_pagefocus_pivot['cumul_time_p4'] / df_medium_pagefocus_pivot['cumul_time_all']\n",
    "df_medium_pagefocus_pivot['prop_time_p5']= df_medium_pagefocus_pivot['cumul_time_p5'] / df_medium_pagefocus_pivot['cumul_time_all']\n",
    "df_medium_pagefocus_pivot['prop_time_p6']= df_medium_pagefocus_pivot['cumul_time_p6'] / df_medium_pagefocus_pivot['cumul_time_all']\n",
    "\n",
    "df_medium_pagefocus_pivot['prop_CTC_p1']= df_medium_pagefocus_pivot['CTC_count_p1'] / df_medium_pagefocus_pivot['CTC_count_all']\n",
    "df_medium_pagefocus_pivot['prop_CTC_p2']= df_medium_pagefocus_pivot['CTC_count_p2'] / df_medium_pagefocus_pivot['CTC_count_all']\n",
    "df_medium_pagefocus_pivot['prop_CTC_p3']= df_medium_pagefocus_pivot['CTC_count_p3'] / df_medium_pagefocus_pivot['CTC_count_all']\n",
    "df_medium_pagefocus_pivot['prop_CTC_p4']= df_medium_pagefocus_pivot['CTC_count_p4'] / df_medium_pagefocus_pivot['CTC_count_all']\n",
    "df_medium_pagefocus_pivot['prop_CTC_p5']= df_medium_pagefocus_pivot['CTC_count_p5'] / df_medium_pagefocus_pivot['CTC_count_all']\n",
    "df_medium_pagefocus_pivot['prop_CTC_p6']= df_medium_pagefocus_pivot['CTC_count_p6'] / df_medium_pagefocus_pivot['CTC_count_all']"
   ]
  },
  {
   "cell_type": "markdown",
   "id": "f263aa4f",
   "metadata": {},
   "source": [
    "**Méga jointure**"
   ]
  },
  {
   "cell_type": "code",
   "execution_count": null,
   "id": "5ded927f",
   "metadata": {
    "scrolled": false
   },
   "outputs": [],
   "source": [
    "df_medium_metrics = pd.merge(left = df_sessions_medium, right = df_ctc_medium, on = 'medium').drop_duplicates()\\\n",
    "                        .merge(df_medium_redirect, on='medium')\\\n",
    "                        .merge(df_medium_pagefocus_pivot, on='medium').drop(columns=['CTC_count_all', 'cumul_time_all'])"
   ]
  },
  {
   "cell_type": "markdown",
   "id": "76d83f27",
   "metadata": {},
   "source": [
    "**Allocation des coûts**"
   ]
  },
  {
   "cell_type": "code",
   "execution_count": null,
   "id": "eb0d1d8c",
   "metadata": {},
   "outputs": [],
   "source": [
    "# On n'a les coûts que par campagne. On les veut aussi par medium\n",
    "# On fait une allocation de coûts au prorata du nombre d'événements = par nombre de clics\n",
    "# On compte le nombre de clics par campagne par medium\n",
    "df_cost_alloc = df_events[['campaign_id', 'medium']].value_counts()\\\n",
    "                    .to_frame().reset_index().sort_values(['campaign_id', 'medium'])\n",
    "\n",
    "# On merge avec les données de coûts de la table campaigns et le décompte total des clics par campagne\n",
    "df_cost_alloc = df_cost_alloc.merge(df_campaigns)\\\n",
    "                    .merge(df_events['campaign_id'].value_counts().to_frame().reset_index(), on=\"campaign_id\")\n",
    "\n",
    "# On renomme les colonnes\n",
    "df_cost_alloc = df_cost_alloc.rename(columns = {'count_x':'count_medium', 'count_y':'count_campaign'})\n",
    "\n",
    "# On procède à l'allocation\n",
    "df_cost_alloc['cost_alloc'] = round(df_cost_alloc['total_cost'] * df_cost_alloc['count_medium'] / df_cost_alloc['count_campaign'],2)\n",
    "\n",
    "# On additionne les contributions de chaque campagne aux coûts des 4 media\n",
    "df_cost_alloc = df_cost_alloc[['medium', 'cost_alloc']].groupby('medium').agg({'cost_alloc': 'sum'}).reset_index()"
   ]
  },
  {
   "cell_type": "code",
   "execution_count": null,
   "id": "3952b00e",
   "metadata": {},
   "outputs": [],
   "source": [
    "# On ajoute ces données de coût à la table\n",
    "df_medium_metrics = df_medium_metrics.merge(df_cost_alloc, on='medium')\n",
    "\n",
    "# On calcule les ratios de coûts\n",
    "df_medium_metrics['cost_per_session'] = df_medium_metrics['cost_alloc'] / df_medium_metrics['session_count']\n",
    "\n",
    "df_medium_metrics['cost_per_click'] = df_medium_metrics['cost_alloc'] / df_medium_metrics['sum_click']\n",
    "\n",
    "df_medium_metrics['cost_per_min'] = df_medium_metrics['cost_alloc'] / df_medium_metrics['sum_duration_in_min']\n",
    "\n",
    "df_medium_metrics['cost_per_ctc'] = df_medium_metrics['cost_alloc'] / df_medium_metrics['sum_ctc']\n",
    "\n",
    "df_medium_metrics['cost_per_prospect'] = df_medium_metrics['cost_alloc'] / df_medium_metrics['prospect_created']\n",
    "\n",
    "df_medium_metrics['cost_per_client'] = df_medium_metrics['cost_alloc'] / df_medium_metrics['client_acquired']"
   ]
  },
  {
   "cell_type": "markdown",
   "id": "dc54e7e2",
   "metadata": {},
   "source": [
    "**Table finale**"
   ]
  },
  {
   "cell_type": "code",
   "execution_count": null,
   "id": "37304f75",
   "metadata": {},
   "outputs": [],
   "source": [
    "df_medium_metrics"
   ]
  },
  {
   "cell_type": "markdown",
   "id": "238897d2",
   "metadata": {},
   "source": [
    "### 5.A Analyse par partenaire"
   ]
  },
  {
   "cell_type": "markdown",
   "id": "e38d85b6",
   "metadata": {},
   "source": [
    "**Pour chaque partenaire (referrer), on commence par calculer le nombre de clics, le nombre de sessions, le temps en ligne**"
   ]
  },
  {
   "cell_type": "code",
   "execution_count": null,
   "id": "4e17056e",
   "metadata": {},
   "outputs": [],
   "source": [
    "# On extrait les colonnes qui nous intéressent\n",
    "df_sessions_referrer = df_analysis[['referrer_summary', 'session_id', 'session_duration', 'is_first_session', 'click', 'CTC']]\n",
    "\n",
    "# On ne garde qu'une ligne par session, puisqu'on a déjà des colonnes qui comptent les clicks / CTC / durée de session\n",
    "df_sessions_referrer = df_sessions_referrer.drop_duplicates(subset='session_id')\n",
    "\n",
    "# On remplace les NaN par zéro\n",
    "df_sessions_referrer[['click', 'CTC']] = df_sessions_referrer[['click', 'CTC']].fillna(0)\n",
    "\n",
    "# On procède à un groupby + agg\n",
    "dico_agg = {\n",
    "    'session_id':'count',\n",
    "    'session_duration':['sum', 'mean'],\n",
    "    'is_first_session':['sum', 'mean'],\n",
    "    'click':['sum', 'mean'],\n",
    "    'CTC':['sum', 'mean']\n",
    "}\n",
    "\n",
    "df_sessions_referrer = df_sessions_referrer.groupby('referrer_summary')\\\n",
    "                            .agg(dico_agg)\n",
    "\n",
    "df_sessions_referrer = df_sessions_referrer.reset_index()\n",
    "\n",
    "# On traite chaque bloc du tableau pour supprimer le niveau 0 et renommer les colonnes de la bonne façon\n",
    "df_sessions_count = df_sessions_referrer[['referrer_summary', 'session_id']]\\\n",
    "                            .droplevel(level=0, axis=1)\\\n",
    "                            .rename(columns={'':'referrer', 'count':'session_count'})\n",
    "\n",
    "df_sessions_duration = df_sessions_referrer[['referrer_summary', 'session_duration']]\\\n",
    "                            .droplevel(level=0, axis=1)\\\n",
    "                            .rename(columns={'':'referrer', 'sum':'sum_duration_in_min', 'mean':'mean_duration_in_min'})\n",
    "\n",
    "df_sessions_first = df_sessions_referrer[['referrer_summary', 'is_first_session']]\\\n",
    "                            .droplevel(level=0, axis=1)\\\n",
    "                            .rename(columns={'':'referrer', 'sum':'sum_first_session', 'mean':'prop_first_session'})\n",
    "\n",
    "df_sessions_click = df_sessions_referrer[['referrer_summary', 'click']]\\\n",
    "                            .droplevel(level=0, axis=1)\\\n",
    "                            .rename(columns={'':'referrer', 'sum':'sum_click', 'mean':'mean_click'})\n",
    "\n",
    "df_sessions_ctc = df_sessions_referrer[['referrer_summary', 'CTC']]\\\n",
    "                            .droplevel(level=0, axis=1)\\\n",
    "                            .rename(columns={'':'referrer', 'sum':'sum_ctc', 'mean':'prop_ctc'})\n",
    "\n",
    "# On fusionne tout\n",
    "df_sessions_referrer = df_sessions_count\\\n",
    "                            .merge(df_sessions_duration, on='referrer')\\\n",
    "                            .merge(df_sessions_first, on='referrer')\\\n",
    "                            .merge(df_sessions_click, on='referrer')\\\n",
    "                            .merge(df_sessions_ctc, on='referrer')\\\n",
    "\n",
    "# On arrondit la durée totale en minutes\n",
    "df_sessions_referrer['sum_duration_in_min'] = round(\\\n",
    "                                                df_sessions_referrer['sum_duration_in_min'].dt.days*24*60 +\\\n",
    "                                                df_sessions_referrer['sum_duration_in_min'].dt.seconds/60\\\n",
    "                                                    ).astype(int)\n",
    "df_sessions_referrer['mean_duration_in_min'] = round(\\\n",
    "                                                    df_sessions_referrer['mean_duration_in_min'].dt.seconds/60\\\n",
    "                                                        ).astype(int)"
   ]
  },
  {
   "cell_type": "markdown",
   "id": "96c01165",
   "metadata": {},
   "source": [
    "**On reprend la table des 1ers CTCs, et on groupe par referrer, pour calculer leurs nombres de prospects créés CTC puis convertis en clients**"
   ]
  },
  {
   "cell_type": "code",
   "execution_count": null,
   "id": "b2beddab",
   "metadata": {},
   "outputs": [],
   "source": [
    "dico_agg = {\n",
    "    'user_id':'count',\n",
    "    'prospect_creation_date':'count',\n",
    "    'is_client':'sum'\n",
    "}\n",
    "\n",
    "dico_rename = {\n",
    "    'referrer_summary':'referrer',\n",
    "    'user_id':'users_on_CTC',\n",
    "    'prospect_creation_date':'prospect_created',\n",
    "    'is_client':'client_acquired'\n",
    "}\n",
    "\n",
    "df_ctc_referrer = df_firstctc[['referrer_summary', 'user_id', 'prospect_creation_date', 'is_client']]\\\n",
    "                        .groupby('referrer_summary')\\\n",
    "                        .agg(dico_agg)\\\n",
    "                        .reset_index()\\\n",
    "                        .rename(columns = dico_rename)"
   ]
  },
  {
   "cell_type": "code",
   "execution_count": null,
   "id": "a8931b31",
   "metadata": {},
   "outputs": [],
   "source": [
    "df_ctc_referrer['prospect_created'].sum() + ((df_firstctc['referrer_summary'].isna()) & (df_firstctc['is_client'].notna())).sum()"
   ]
  },
  {
   "cell_type": "markdown",
   "id": "9d265405",
   "metadata": {},
   "source": [
    "**Pour chaque referrer, on compte les redirections vers chaque page (au début des sessions)**"
   ]
  },
  {
   "cell_type": "code",
   "execution_count": null,
   "id": "c48d6d68",
   "metadata": {},
   "outputs": [],
   "source": [
    "# On commence par ne prendre les événements de df_analysis que lorsque 'referrer' n'est pas le site Garanteo lui-même\n",
    "# On ne prend que les deux colonnes dont on a besoin\n",
    "df_referrer_redirect = df_analysis[df_analysis['referrer_summary'].replace('site', np.nan).notna()][['referrer_summary','page']]\n",
    "\n",
    "# On fait un value_counts qu'on pivote ensuite pour avoir 6 colonnes qui comptent le nombre de redirections sur les 6 pages\n",
    "df_referrer_redirect = df_referrer_redirect.value_counts().to_frame()\\\n",
    "                            .sort_values(['referrer_summary', 'page']).reset_index()\\\n",
    "                            .pivot(index='referrer_summary', columns='page', values='count').reset_index()\\\n",
    "                            .rename(columns={\n",
    "                            'referrer_summary':'referrer',\n",
    "                            '1':'redirect_p1',\n",
    "                            '2':'redirect_p2',\n",
    "                            '3':'redirect_p3',\n",
    "                            '4':'redirect_p4',\n",
    "                            '5':'redirect_p5',\n",
    "                            '6':'redirect_p6'\n",
    "                        })"
   ]
  },
  {
   "cell_type": "markdown",
   "id": "4c306627",
   "metadata": {},
   "source": [
    "**Calcul du temps par page et du nombre de CTC sur chaque page, en absolu et en relatif pour chaque medium**"
   ]
  },
  {
   "cell_type": "code",
   "execution_count": null,
   "id": "9b0887e6",
   "metadata": {},
   "outputs": [],
   "source": [
    "# Tableau pour afficher des graphes par page en utilisant le paramètre \"hue\"\n",
    "\n",
    "# On extrait les colonnes requises du tableau df_sessions_breakdown\n",
    "df_referrer_pagefocus = df_sessions_breakdown[['user_id', 'session_started_at', 'page', 'event_duration_in_sec', 'is_CTC']] \\\n",
    "        \n",
    "# groupby: on groupe par session et par page\n",
    "# agg : Pour chaque session, on calcule la somme du temps passé par page, et le nombre de CTC par page \n",
    "df_referrer_pagefocus = df_referrer_pagefocus.groupby(['user_id', 'session_started_at', 'page']) \\\n",
    "                            .agg({'event_duration_in_sec':'sum', 'is_CTC': 'sum'}) \\\n",
    "                            .reset_index() \\\n",
    "\n",
    "# Pour chacune de ces sessions, on ajoute le referrer qui a initié la session. \n",
    "# On se débarasse des 'site' qui correspondent à la navigation interne au site de Garanteo pendant la session\n",
    "df_referrer_pagefocus = df_referrer_pagefocus.merge(df_analysis[['user_id', 'session_started_at', 'referrer_summary']]\\\n",
    "                            .replace('site', np.nan).dropna(subset='referrer_summary'),\\\n",
    "                            on=['user_id', 'session_started_at'])\\\n",
    "\n",
    "# drop: on se débarasse des références à la session \n",
    "# groupby : on groupe une nouvelle fois par referrer et par page\n",
    "# agg : pour chacun des referrers, on calcule le temps passé par les utilisateurs sur chaque page, et le nb de CTC par page \n",
    "df_referrer_pagefocus = df_referrer_pagefocus.drop(columns=['user_id', 'session_started_at'])\\\n",
    "                            .groupby(['referrer_summary', 'page'])\\\n",
    "                            .agg({'event_duration_in_sec':'sum', 'is_CTC': 'sum'})\\\n",
    "                            .reset_index()\\\n",
    "                            .rename(columns={\n",
    "                                    'referrer_summary':'referrer',\n",
    "                                    'event_duration_in_sec':'cumul_time_in_sec',\n",
    "                                    'is_CTC':'CTC_count'\n",
    "                                })"
   ]
  },
  {
   "cell_type": "code",
   "execution_count": null,
   "id": "eeff6341",
   "metadata": {
    "scrolled": false
   },
   "outputs": [],
   "source": [
    "# Tableau pivoté\n",
    "# Même principe au début\n",
    "df_referrer_pagefocus_pivot = df_sessions_breakdown[['user_id', 'session_started_at', 'page', 'event_duration_in_sec', 'is_CTC']]\\\n",
    "                                .groupby(['user_id', 'session_started_at', 'page'])\\\n",
    "                                .agg({'event_duration_in_sec':'sum', 'is_CTC': 'sum'})\\\n",
    "                                .reset_index()\\\n",
    "                                .merge(df_analysis[['user_id', 'session_started_at', 'referrer_summary']]\\\n",
    "                                       .replace('site', np.nan).dropna(subset='referrer_summary'),\\\n",
    "                                       on=['user_id', 'session_started_at'])\\\n",
    "                                .drop(columns=['user_id', 'session_started_at'])\\\n",
    "                                .groupby(['referrer_summary', 'page'])\\\n",
    "                                .agg({'event_duration_in_sec':'sum', 'is_CTC': 'sum'})\\\n",
    "                                .reset_index()\n",
    "\n",
    "# On rajoute un pivot pour avoir une colonne par page, pour chaque indicateur\n",
    "df_referrer_pagefocus_pivot = df_referrer_pagefocus_pivot.pivot(index='referrer_summary', columns='page', values=['event_duration_in_sec', 'is_CTC'])\\\n",
    "                                .reset_index()\n",
    "\n",
    "# On clean chaque bloc\n",
    "df_referrer_pagetime = df_referrer_pagefocus_pivot['event_duration_in_sec']\\\n",
    "                        .rename(columns={\n",
    "                            '1':'cumul_time_p1',\n",
    "                            '2':'cumul_time_p2',\n",
    "                            '3':'cumul_time_p3',\n",
    "                            '4':'cumul_time_p4',\n",
    "                            '5':'cumul_time_p5',\n",
    "                            '6':'cumul_time_p6'\n",
    "                        })\n",
    "\n",
    "df_referrer_pagectc = df_referrer_pagefocus_pivot['is_CTC']\\\n",
    "                        .rename(columns={\n",
    "                            '1':'CTC_count_p1',\n",
    "                            '2':'CTC_count_p2',\n",
    "                            '3':'CTC_count_p3',\n",
    "                            '4':'CTC_count_p4',\n",
    "                            '5':'CTC_count_p5',\n",
    "                            '6':'CTC_count_p6'\n",
    "                        })\n",
    "\n",
    "# On concatène le tout\n",
    "df_referrer_pagefocus_pivot = pd.concat([\n",
    "                                df_referrer_pagefocus_pivot['referrer_summary'], \n",
    "                                df_referrer_pagetime, \n",
    "                                df_referrer_pagectc\n",
    "                                ],axis=1)\\\n",
    "                            .rename(columns={'referrer_summary':'referrer'})"
   ]
  },
  {
   "cell_type": "code",
   "execution_count": null,
   "id": "06f28c4e",
   "metadata": {},
   "outputs": [],
   "source": [
    "# On calcule des totaux pour ensuite calculer les %\n",
    "df_referrer_pagefocus_pivot['cumul_time_all']=\\\n",
    "    df_referrer_pagefocus_pivot[['cumul_time_p1','cumul_time_p2','cumul_time_p3','cumul_time_p4','cumul_time_p5','cumul_time_p6']]\\\n",
    "    .sum(axis=1)\n",
    "\n",
    "df_referrer_pagefocus_pivot['CTC_count_all']=\\\n",
    "    df_referrer_pagefocus_pivot[['CTC_count_p1','CTC_count_p2','CTC_count_p3','CTC_count_p4','CTC_count_p5','CTC_count_p6']]\\\n",
    "    .sum(axis=1)"
   ]
  },
  {
   "cell_type": "code",
   "execution_count": null,
   "id": "35682b39",
   "metadata": {},
   "outputs": [],
   "source": [
    "# Calcul des %\n",
    "df_referrer_pagefocus_pivot['prop_time_p1']= df_referrer_pagefocus_pivot['cumul_time_p1'] / df_referrer_pagefocus_pivot['cumul_time_all']\n",
    "df_referrer_pagefocus_pivot['prop_time_p2']= df_referrer_pagefocus_pivot['cumul_time_p2'] / df_referrer_pagefocus_pivot['cumul_time_all']\n",
    "df_referrer_pagefocus_pivot['prop_time_p3']= df_referrer_pagefocus_pivot['cumul_time_p3'] / df_referrer_pagefocus_pivot['cumul_time_all']\n",
    "df_referrer_pagefocus_pivot['prop_time_p4']= df_referrer_pagefocus_pivot['cumul_time_p4'] / df_referrer_pagefocus_pivot['cumul_time_all']\n",
    "df_referrer_pagefocus_pivot['prop_time_p5']= df_referrer_pagefocus_pivot['cumul_time_p5'] / df_referrer_pagefocus_pivot['cumul_time_all']\n",
    "df_referrer_pagefocus_pivot['prop_time_p6']= df_referrer_pagefocus_pivot['cumul_time_p6'] / df_referrer_pagefocus_pivot['cumul_time_all']\n",
    "\n",
    "df_referrer_pagefocus_pivot['prop_CTC_p1']= df_referrer_pagefocus_pivot['CTC_count_p1'] / df_referrer_pagefocus_pivot['CTC_count_all']\n",
    "df_referrer_pagefocus_pivot['prop_CTC_p2']= df_referrer_pagefocus_pivot['CTC_count_p2'] / df_referrer_pagefocus_pivot['CTC_count_all']\n",
    "df_referrer_pagefocus_pivot['prop_CTC_p3']= df_referrer_pagefocus_pivot['CTC_count_p3'] / df_referrer_pagefocus_pivot['CTC_count_all']\n",
    "df_referrer_pagefocus_pivot['prop_CTC_p4']= df_referrer_pagefocus_pivot['CTC_count_p4'] / df_referrer_pagefocus_pivot['CTC_count_all']\n",
    "df_referrer_pagefocus_pivot['prop_CTC_p5']= df_referrer_pagefocus_pivot['CTC_count_p5'] / df_referrer_pagefocus_pivot['CTC_count_all']\n",
    "df_referrer_pagefocus_pivot['prop_CTC_p6']= df_referrer_pagefocus_pivot['CTC_count_p6'] / df_referrer_pagefocus_pivot['CTC_count_all']"
   ]
  },
  {
   "cell_type": "markdown",
   "id": "716ad7c5",
   "metadata": {},
   "source": [
    "**Méga jointure**"
   ]
  },
  {
   "cell_type": "code",
   "execution_count": null,
   "id": "5aa81258",
   "metadata": {
    "scrolled": false
   },
   "outputs": [],
   "source": [
    "df_referrer_metrics = pd.merge(left = df_sessions_referrer, right = df_ctc_referrer, on = 'referrer').drop_duplicates()\\\n",
    "                        .merge(df_referrer_redirect, on='referrer')\\\n",
    "                        .merge(df_referrer_pagefocus_pivot, on='referrer')\\\n",
    "                        .drop(columns=['CTC_count_all', 'cumul_time_all'])"
   ]
  },
  {
   "cell_type": "markdown",
   "id": "406f7fec",
   "metadata": {},
   "source": [
    "**Table finale**"
   ]
  },
  {
   "cell_type": "code",
   "execution_count": null,
   "id": "dd3d2a74",
   "metadata": {},
   "outputs": [],
   "source": [
    "df_referrer_metrics"
   ]
  },
  {
   "cell_type": "markdown",
   "id": "e6689f7f",
   "metadata": {},
   "source": [
    "## 5. Objectif B"
   ]
  },
  {
   "cell_type": "markdown",
   "id": "0d0638b9",
   "metadata": {},
   "source": [
    "On va repartir de la df_analysis (jointure de sessions et events) créée précédemment"
   ]
  },
  {
   "cell_type": "markdown",
   "id": "d7765e26",
   "metadata": {},
   "source": [
    "**Données du setup utilisateur**"
   ]
  },
  {
   "cell_type": "markdown",
   "id": "afc3b8c1",
   "metadata": {},
   "source": [
    "On vérifie que chaque utilisateur n'a qu'un seul setup (ce qui paraitrait logique, car il y a probablement un user_id par ip) "
   ]
  },
  {
   "cell_type": "code",
   "execution_count": null,
   "id": "10e03f9d",
   "metadata": {},
   "outputs": [],
   "source": [
    "df_analysis[['user_id', 'device_type', 'device_browser', 'device_operating_system', 'device_language', 'country']]\\\n",
    "                        .value_counts().to_frame().reset_index()\\\n",
    "                        ['user_id'].value_counts()"
   ]
  },
  {
   "cell_type": "markdown",
   "id": "e12d5904",
   "metadata": {},
   "source": [
    "C'est vérifié, sinon on aurait des user_id qui apparaitraient plusieurs fois dans le tableau ci-dessus"
   ]
  },
  {
   "cell_type": "markdown",
   "id": "7ce54f15",
   "metadata": {},
   "source": [
    "Ainsi, il suffira de joindre le setup à la fin, en utilisant comme clé les user_id"
   ]
  },
  {
   "cell_type": "code",
   "execution_count": null,
   "id": "867921a0",
   "metadata": {},
   "outputs": [],
   "source": [
    "df_setup = df_sessions[['user_id', 'device_type', 'device_browser', 'device_operating_system', 'device_language', 'country']]\\\n",
    "            .drop_duplicates(subset='user_id').reset_index(drop=True)"
   ]
  },
  {
   "cell_type": "markdown",
   "id": "1a5ebffe",
   "metadata": {},
   "source": [
    "**Campagne / canal / partenaire de la 1ere visite sur le site**"
   ]
  },
  {
   "cell_type": "code",
   "execution_count": null,
   "id": "ce9ac3d0",
   "metadata": {},
   "outputs": [],
   "source": [
    "# On sélectionne les colonnes qui nous intéressent\n",
    "df_marketing = df_events[['user_id', 'event_timestamp', 'campaign_id', 'medium', 'referrer_summary']]\\\n",
    "\n",
    "# On trie les événements de chaque user par date / heure d'événement, et on ne garde que le tout premier\n",
    "df_marketing = df_marketing.sort_values(['user_id', 'event_timestamp'])\\\n",
    "                    .drop_duplicates('user_id', keep='first')\\\n",
    "                    .drop(columns='event_timestamp')\\\n",
    "                    .reset_index(drop=True)\n",
    "\n",
    "# On renomme les colonnes pour qu'elles soient plus explicites\n",
    "df_marketing = df_marketing.rename(columns={\n",
    "    'campaign_id':'first_visit_campaign_id',\n",
    "    'medium':'first_visit_medium',\n",
    "    'referrer_summary':'first_visit_referrer'\n",
    "})"
   ]
  },
  {
   "cell_type": "markdown",
   "id": "9584b892",
   "metadata": {},
   "source": [
    "**Nombre de sessions, temps moyen entre chaque session, temps total sur le site, durée moyenne d'une session**"
   ]
  },
  {
   "cell_type": "code",
   "execution_count": null,
   "id": "ee0be063",
   "metadata": {},
   "outputs": [],
   "source": [
    "# On extrait les colonnes qui nous intéressent et on se focalise pour l'instant sur les sessions\n",
    "# On fait donc un drop_duplicates() car df_analysis contient plusieurs événements par session\n",
    "df_sessions_users = df_analysis[['user_id', 'session_started_at', 'time_btw_sessions', 'session_duration']]\\\n",
    "                            .drop_duplicates(subset=['user_id', 'session_started_at'])\n",
    "\n",
    "# On procède à un groupby + agg \n",
    "dico_agg = {\n",
    "    'session_started_at':'count',\n",
    "    'time_btw_sessions':'mean',\n",
    "    'session_duration':['sum', 'mean']\n",
    "}\n",
    "\n",
    "df_sessions_users = df_sessions_users.groupby('user_id').agg(dico_agg).reset_index()\n",
    "\n",
    "# On clean chaque bloc\n",
    "df_sessions_count = df_sessions_users[['user_id', 'session_started_at']]\\\n",
    "                            .droplevel(level=0, axis=1)\\\n",
    "                            .rename(columns={'':'user_id', 'count':'session_count'})\n",
    "\n",
    "df_sessions_timebtw = df_sessions_users[['user_id', 'time_btw_sessions']]\\\n",
    "                            .droplevel(level=0, axis=1)\\\n",
    "                            .rename(columns={'':'user_id', 'sum':'sum_timebtw_in_min', 'mean':'avg_days_btw'})\n",
    "\n",
    "df_sessions_duration = df_sessions_users[['user_id', 'session_duration']]\\\n",
    "                            .droplevel(level=0, axis=1)\\\n",
    "                            .rename(columns={'':'user_id', 'sum':'sum_duration_in_min', 'mean':'avg_duration_in_min'})\n",
    "\n",
    "# On fusionne le tout\n",
    "df_sessions_users = df_sessions_count\\\n",
    "                            .merge(df_sessions_timebtw, on='user_id')\\\n",
    "                            .merge(df_sessions_duration, on='user_id')\\\n",
    "\n",
    "# On convertit les durées\n",
    "# En minutes :\n",
    "df_sessions_users['sum_duration_in_min'] = round(\\\n",
    "                                                df_sessions_users['sum_duration_in_min'].dt.days*24*60 +\\\n",
    "                                                df_sessions_users['sum_duration_in_min'].dt.seconds/60\\\n",
    "                                                    )\n",
    "# En minutes :\n",
    "df_sessions_users['avg_duration_in_min'] = round(df_sessions_users['avg_duration_in_min'].dt.seconds/60)\n",
    "\n",
    "# En jours :\n",
    "df_sessions_users['avg_days_btw'] = df_sessions_users['avg_days_btw'].dt.days\n",
    "\n",
    "# On remplace les NaN par des 0\n",
    "df_sessions_users = df_sessions_users.fillna(0)"
   ]
  },
  {
   "cell_type": "markdown",
   "id": "868d572d",
   "metadata": {},
   "source": [
    "**Nombre de visites sur chaque page / temps total sur chaque page / % de temps sur chaque page**"
   ]
  },
  {
   "cell_type": "code",
   "execution_count": null,
   "id": "8eafad0c",
   "metadata": {},
   "outputs": [],
   "source": [
    "dico_agg = {\n",
    "    'event_duration_in_sec':['count', 'sum'],\n",
    "    'is_CTC':'sum'\n",
    "}\n",
    "\n",
    "dico_rename_page = {\n",
    "    'count':'count_visit',\n",
    "    'sum':'sum_time'\n",
    "}\n",
    "\n",
    "dico_rename_ctc = {\n",
    "    'sum':'ctc_count'\n",
    "}\n",
    "\n",
    "# On repart de df_page_visits créé plus haut, dans l'Objectif A \n",
    "# On procède à un groupby + agg\n",
    "\n",
    "df_page_visits = df_page_visits[['user_id', 'page', 'event_duration_in_sec', 'is_CTC']]\\\n",
    "                                .groupby(['user_id', 'page'])\\\n",
    "                                .agg(dico_agg)\\\n",
    "                                .reset_index()\n",
    "\n",
    "# On clean chaque bloc\n",
    "df_page = df_page_visits[['event_duration_in_sec']]\\\n",
    "                    .droplevel(level=0, axis=1)\\\n",
    "                    .rename(columns=dico_rename_page)\\\n",
    "                    .fillna(0)\n",
    "\n",
    "df_page_ctc = df_page_visits[['is_CTC']]\\\n",
    "                    .droplevel(level=0, axis=1)\\\n",
    "                    .rename(columns=dico_rename_ctc)\\\n",
    "                    .fillna(0)\n",
    "\n",
    "# On concatène le tout\n",
    "df_page_visits = pd.concat([df_page_visits['user_id'].to_frame(), df_page_visits['page'].to_frame(), df_page, df_page_ctc], axis=1)"
   ]
  },
  {
   "cell_type": "code",
   "execution_count": null,
   "id": "f10d5dd1",
   "metadata": {},
   "outputs": [],
   "source": [
    "# On pivote chaque bloc pour avoir une colonne par page, par indicateur\n",
    "\n",
    "dico_rename_count = {\n",
    "    '1':'visits_p1',\n",
    "    '2':'visits_p2',\n",
    "    '3':'visits_p3',\n",
    "    '4':'visits_p4',\n",
    "    '5':'visits_p5',\n",
    "    '6':'visits_p6',\n",
    "}\n",
    "dico_rename_sum = {\n",
    "    '1':'time_in_sec_p1',\n",
    "    '2':'time_in_sec_p2',\n",
    "    '3':'time_in_sec_p3',\n",
    "    '4':'time_in_sec_p4',\n",
    "    '5':'time_in_sec_p5',\n",
    "    '6':'time_in_sec_p6',\n",
    "}\n",
    "\n",
    "dico_rename_ctc = {\n",
    "    '1':'ctc_p1',\n",
    "    '2':'ctc_p2',\n",
    "    '3':'ctc_p3',\n",
    "    '4':'ctc_p4',\n",
    "    '5':'ctc_p5',\n",
    "    '6':'ctc_p6',\n",
    "}\n",
    "\n",
    "df_page_count = df_page_visits[['user_id', 'page','count_visit']]\\\n",
    "                    .pivot(columns='page', index='user_id', values='count_visit')\\\n",
    "                    .reset_index()\\\n",
    "                    .rename(columns=dico_rename_count)\\\n",
    "                    .fillna(0)\n",
    "\n",
    "df_page_time = df_page_visits[['user_id', 'page', 'sum_time']]\\\n",
    "                    .pivot(columns='page', index='user_id', values='sum_time')\\\n",
    "                    .reset_index(drop=True)\\\n",
    "                    .rename(columns=dico_rename_sum)\\\n",
    "                    .fillna(0)\n",
    "\n",
    "df_page_ctc = df_page_visits[['user_id', 'page', 'ctc_count']]\\\n",
    "                    .pivot(columns='page', index='user_id', values='ctc_count')\\\n",
    "                    .reset_index(drop=True)\\\n",
    "                    .rename(columns=dico_rename_ctc)\\\n",
    "                    .fillna(0)\n",
    "\n",
    "# On concatène le tout\n",
    "df_page_visits = pd.concat([df_page_count, df_page_time, df_page_ctc], axis=1).reset_index(drop=True)"
   ]
  },
  {
   "cell_type": "code",
   "execution_count": null,
   "id": "4de08fb4",
   "metadata": {},
   "outputs": [],
   "source": [
    "# On calcule le % de temps passé sur chaque page\n",
    "sum_time = df_page_visits[['time_in_sec_p1','time_in_sec_p2','time_in_sec_p3','time_in_sec_p4','time_in_sec_p5','time_in_sec_p6']].sum(axis=1)\n",
    "df_page_visits['perc_time_p1'] = (df_page_visits['time_in_sec_p1'] / sum_time).fillna(0)\n",
    "df_page_visits['perc_time_p2'] = (df_page_visits['time_in_sec_p2'] / sum_time).fillna(0)\n",
    "df_page_visits['perc_time_p3'] = (df_page_visits['time_in_sec_p3'] / sum_time).fillna(0)\n",
    "df_page_visits['perc_time_p4'] = (df_page_visits['time_in_sec_p4'] / sum_time).fillna(0)\n",
    "df_page_visits['perc_time_p5'] = (df_page_visits['time_in_sec_p5'] / sum_time).fillna(0)\n",
    "df_page_visits['perc_time_p6'] = (df_page_visits['time_in_sec_p6'] / sum_time).fillna(0)"
   ]
  },
  {
   "cell_type": "markdown",
   "id": "2a2f2330",
   "metadata": {},
   "source": [
    "**Temps de visite par jour de la semaine**"
   ]
  },
  {
   "cell_type": "code",
   "execution_count": null,
   "id": "dcdc6f01",
   "metadata": {
    "scrolled": false
   },
   "outputs": [],
   "source": [
    "# On extrait les colonnes qui nous intéressent et on se place à l'échelle des sessions\n",
    "# df_analysis est à l'échelle des événements, donc on supprime les doublons \n",
    "df_weekday = df_analysis[['user_id', 'session_started_at', 'session_weekday', 'session_duration']]\\\n",
    "                    .drop_duplicates(subset=['user_id', 'session_started_at'])\n",
    "\n",
    "# On supprime la colonne session_started_at pour permettre le groupby\n",
    "df_weekday = df_weekday.drop(columns='session_started_at')\n",
    "\n",
    "# On procède au groupby + agg\n",
    "df_weekday = df_weekday.groupby(['user_id','session_weekday']).agg({'session_duration':['sum','mean']})\n",
    "\n",
    "# On clean le df\n",
    "dico_rename = {\n",
    "    \"sum\":\"total_sessions_duration\",\n",
    "    \"mean\":\"avg_sessions_duration\"\n",
    "}\n",
    "df_weekday = df_weekday.droplevel(0, axis=1).reset_index().rename(columns=dico_rename)\n",
    "\n",
    "# On convertit les durées en minutes\n",
    "df_weekday['total_sessions_duration'] = round(df_weekday['total_sessions_duration'].dt.total_seconds()/60,0)\n",
    "df_weekday['avg_sessions_duration'] = round(df_weekday['avg_sessions_duration'].dt.total_seconds()/60,0)\n",
    "\n",
    "# On pivote pour avoir une colonne par jour de la semaine, par indicateur\n",
    "df_weekday = df_weekday.pivot(\n",
    "    columns='session_weekday', \n",
    "    index='user_id', \n",
    "    values=['total_sessions_duration', 'avg_sessions_duration'])\n",
    "\n",
    "# On clean chaque bloc\n",
    "dico_rename = {\n",
    "    0:\"minutes_mon\",\n",
    "    1:\"minutes_tue\",\n",
    "    2:\"minutes_wed\",\n",
    "    3:\"minutes_thu\",\n",
    "    4:\"minutes_fri\",\n",
    "    5:\"minutes_sat\",\n",
    "    6:\"minutes_sun\",\n",
    "}\n",
    "\n",
    "df_weekday_total = df_weekday['total_sessions_duration'].rename(columns=dico_rename).reset_index().fillna(0)\n",
    "\n",
    "dico_rename = {\n",
    "    0:\"avg_mon\",\n",
    "    1:\"avg_tue\",\n",
    "    2:\"avg_wed\",\n",
    "    3:\"avg_thu\",\n",
    "    4:\"avg_fri\",\n",
    "    5:\"avg_sat\",\n",
    "    6:\"avg_sun\",\n",
    "}\n",
    "\n",
    "df_weekday_avg = df_weekday['avg_sessions_duration'].rename(columns=dico_rename).reset_index().fillna(0)"
   ]
  },
  {
   "cell_type": "markdown",
   "id": "f4c1fd5a",
   "metadata": {},
   "source": [
    "**Temps en ligne par moment de la journée**"
   ]
  },
  {
   "cell_type": "code",
   "execution_count": null,
   "id": "2ad7d503",
   "metadata": {},
   "outputs": [],
   "source": [
    "# Cf. cellule juste au-dessus. Même code avec, à la place, les moments de la journée\n",
    "\n",
    "df_period = df_analysis[['user_id', 'session_started_at', 'day_period', 'session_duration']]\\\n",
    "                    .drop_duplicates(subset=['user_id', 'session_started_at'])\\\n",
    "                    .drop(columns='session_started_at')\\\n",
    "                    .groupby(['user_id','day_period'])\\\n",
    "                    .agg({'session_duration':['sum','mean']})\n",
    "dico_rename = {\n",
    "    \"sum\":\"total_sessions_duration\",\n",
    "    \"mean\":\"avg_sessions_duration\"\n",
    "}\n",
    "df_period = df_period.droplevel(0, axis=1).reset_index().rename(columns=dico_rename)\n",
    "df_period['total_sessions_duration'] = round(df_period['total_sessions_duration'].dt.total_seconds()/60,0)\n",
    "df_period['avg_sessions_duration'] = round(df_period['avg_sessions_duration'].dt.total_seconds()/60,0)\n",
    "\n",
    "df_period = df_period.pivot(\n",
    "    columns='day_period', \n",
    "    index='user_id', \n",
    "    values=['total_sessions_duration', 'avg_sessions_duration'])\n",
    "\n",
    "dico_rename = {\n",
    "    'night':\"minutes_night\",\n",
    "    'morning':\"minutes_morning\",\n",
    "    'afternoon':\"minutes_afternoon\",\n",
    "    'evening':\"minutes_evening\"\n",
    "}\n",
    "\n",
    "df_period_total = df_period['total_sessions_duration'].rename(columns=dico_rename).reset_index().fillna(0)\n",
    "\n",
    "dico_rename = {\n",
    "    'night':\"avg_night\",\n",
    "    'morning':\"avg_morning\",\n",
    "    'afternoon':\"avg_afternoon\",\n",
    "    'evening':\"avg_evening\"\n",
    "}\n",
    "\n",
    "df_period_avg = df_period['avg_sessions_duration'].rename(columns=dico_rename).reset_index().fillna(0)"
   ]
  },
  {
   "cell_type": "markdown",
   "id": "ba13fc0e",
   "metadata": {},
   "source": [
    "**Méga jointure**"
   ]
  },
  {
   "cell_type": "code",
   "execution_count": null,
   "id": "e1a6361e",
   "metadata": {
    "scrolled": false
   },
   "outputs": [],
   "source": [
    "df_users_metrics = df_sessions_users\\\n",
    "                        .merge(df_page_visits, how='left', on='user_id')\\\n",
    "                        .merge(df_weekday_total, how='left', on='user_id')\\\n",
    "                        .merge(df_weekday_avg, how='left', on='user_id')\\\n",
    "                        .merge(df_period_total, how='left', on='user_id')\\\n",
    "                        .merge(df_period_avg, how='left', on='user_id')\\\n",
    "                        .merge(df_setup, how='left', on='user_id')\\\n",
    "                        .merge(df_marketing, on='user_id', how='left')"
   ]
  },
  {
   "cell_type": "markdown",
   "id": "9c6bee09",
   "metadata": {},
   "source": [
    "**Table finale**"
   ]
  },
  {
   "cell_type": "code",
   "execution_count": null,
   "id": "fdee9e64",
   "metadata": {},
   "outputs": [],
   "source": [
    "df_users_metrics"
   ]
  },
  {
   "cell_type": "markdown",
   "id": "0bba20eb",
   "metadata": {},
   "source": [
    "## 5. Objectif C"
   ]
  },
  {
   "cell_type": "markdown",
   "id": "a8c28810",
   "metadata": {},
   "source": [
    "**Les prospects sont avant tout des users. Je repars donc de ma table construite pour l'Objectif B, avec juste les colonnes qui m'intéressent pour entraîner le modèle de ML de l'Objectif C**"
   ]
  },
  {
   "cell_type": "code",
   "execution_count": null,
   "id": "dbbca020",
   "metadata": {
    "scrolled": true
   },
   "outputs": [],
   "source": [
    "df_profiles = df_users_metrics[['user_id','session_count','avg_days_btw','sum_duration_in_min']]\\\n",
    "                .fillna(value={'avg_days_btw':0})"
   ]
  },
  {
   "cell_type": "markdown",
   "id": "72b1c608",
   "metadata": {},
   "source": [
    "**Je lui joins toutes les infos de df_prospects**"
   ]
  },
  {
   "cell_type": "code",
   "execution_count": null,
   "id": "1363772a",
   "metadata": {},
   "outputs": [],
   "source": [
    "df_profiles = df_profiles.merge(df_prospects)"
   ]
  },
  {
   "cell_type": "markdown",
   "id": "82940735",
   "metadata": {},
   "source": [
    "**On peut joindre les données de setup**"
   ]
  },
  {
   "cell_type": "code",
   "execution_count": null,
   "id": "c6b99591",
   "metadata": {},
   "outputs": [],
   "source": [
    "# Par défaut on ne les rajoute pas\n",
    "# df_profiles = df_profiles.merge(df_setup, on='user_id')"
   ]
  },
  {
   "cell_type": "markdown",
   "id": "396a8249",
   "metadata": {},
   "source": [
    "**Nombre de clics et de CTC**"
   ]
  },
  {
   "cell_type": "markdown",
   "id": "9b026d43",
   "metadata": {},
   "source": [
    "On repart sur df_analysis"
   ]
  },
  {
   "cell_type": "code",
   "execution_count": null,
   "id": "eaef7bd9",
   "metadata": {},
   "outputs": [],
   "source": [
    "# On sélectionne les colonnes qui nous intéressent\n",
    "df_pevents = df_analysis[['user_id', 'session_started_at', 'session_ended_at', 'session_duration', 'event_timestamp', 'event_type', 'CTC', 'click', 'CTC_timestamp', 'first_session_started_at']]\\\n",
    "                    .sort_values(['user_id', 'session_started_at', 'event_timestamp'])\n",
    "\n",
    "# On remplit les NaN de event_timestamp (session sans event)\n",
    "df_pevents['event_timestamp'] = df_pevents['event_timestamp'].fillna(df_pevents['session_started_at'])\n",
    "\n",
    "# On ne garde que les users qui sont dans la table prospects\n",
    "df_pevents = df_pevents[df_pevents['user_id'].isin(df_prospects['user_id'])].reset_index(drop=True)"
   ]
  },
  {
   "cell_type": "code",
   "execution_count": null,
   "id": "5d61d7c7",
   "metadata": {},
   "outputs": [],
   "source": [
    "# Les colonnes 'CTC' et 'click' comptent les événements de ces types pour chaque session\n",
    "# df_pevents est à l'échelle des événements\n",
    "# On a donc des doublons qu'il faut supprimer pour se placer à l'échelle des sessions\n",
    "df_clickcount = df_pevents[['user_id', 'session_started_at', 'CTC', 'click']].drop_duplicates()\n",
    "\n",
    "# Puis on supprime la colonne session_started_at dont on n'a plus besoin, et on procède au groupby + agg(sum)\n",
    "df_clickcount = df_clickcount.drop(columns='session_started_at')\\\n",
    "                        .groupby('user_id')\\\n",
    "                        .agg({'CTC':'sum', 'click':'sum'})\\\n",
    "                        .reset_index()"
   ]
  },
  {
   "cell_type": "markdown",
   "id": "fd04438c",
   "metadata": {},
   "source": [
    "**1er CTC de chaque prospect et campagne associée**"
   ]
  },
  {
   "cell_type": "code",
   "execution_count": null,
   "id": "4c2e2eb9",
   "metadata": {},
   "outputs": [],
   "source": [
    "# On réutilise la table df_firstctc et on la filtre pour ne garder \n",
    "# 1. que les prospects\n",
    "# 2. que les colonnes qui nous intéressent\n",
    "df_firstctc_prospects = df_firstctc[df_firstctc['user_id'].isin(df_prospects['user_id'])][['user_id', 'CTC_timestamp', 'campaign_id']]\\\n",
    "                            .reset_index(drop=True)\\\n",
    "                            .rename(columns={\n",
    "                                        'CTC_timestamp':'first_ctc_timestamp',\n",
    "                                        'campaign_id':'first_ctc_campaign_id'\n",
    "                                    })"
   ]
  },
  {
   "cell_type": "markdown",
   "id": "150508fc",
   "metadata": {},
   "source": [
    "**Nombre de visites avant le CTC**"
   ]
  },
  {
   "cell_type": "code",
   "execution_count": null,
   "id": "f2859e48",
   "metadata": {},
   "outputs": [],
   "source": [
    "# On ajoute à notre table pevents (événements par prospects) la date/heure du 1er CTC de chaque prospect\n",
    "df_pevents = df_pevents.merge(df_firstctc_prospects, on='user_id')"
   ]
  },
  {
   "cell_type": "code",
   "execution_count": null,
   "id": "3437d514",
   "metadata": {},
   "outputs": [],
   "source": [
    "# On convertit en date\n",
    "df_pevents['first_ctc_date'] = df_pevents['first_ctc_timestamp'].dt.date\n",
    "df_pevents['session_date'] = df_pevents['session_started_at'].dt.date\n",
    "\n",
    "# On crée une colonne de boolean indiquant si la session de l'événement est antérieure à la session du 1er CTC\n",
    "df_pevents['session_before_first_ctc'] = (df_pevents['session_date'] < df_pevents['first_ctc_date'])"
   ]
  },
  {
   "cell_type": "code",
   "execution_count": null,
   "id": "21b59093",
   "metadata": {},
   "outputs": [],
   "source": [
    "df_sessions_CTC1 = df_pevents[['user_id', 'session_before_first_ctc', 'session_started_at','session_duration']]\n",
    "df_sessions_CTC1[df_sessions_CTC1['session_before_first_ctc']==True]"
   ]
  },
  {
   "cell_type": "code",
   "execution_count": null,
   "id": "2b2ff837",
   "metadata": {},
   "outputs": [],
   "source": [
    "# On extrait les colonnes qui nous intéressent pour le calcul\n",
    "df_sessions_CTC1 = df_pevents[['user_id', 'session_started_at', 'session_before_first_ctc']]\n",
    "\n",
    "# On filtre les sessions antérieures au 1er CTC et on supprime les doublons (plusieurs évévenements par session)\n",
    "df_sessions_CTC1 = df_sessions_CTC1[df_sessions_CTC1['session_before_first_ctc']==True]\\\n",
    "                            .drop_duplicates(subset=['user_id', 'session_started_at'])\n",
    "\n",
    "# Puis on procède au groupby + agg pour compter les sessions avant le 1er CTC\n",
    "df_sessions_CTC1 = df_sessions_CTC1.groupby('user_id')\\\n",
    "                            .agg({'session_started_at':'count'})\\\n",
    "                            .reset_index()\\\n",
    "                            .rename(columns={'session_started_at':'sessions_before_first_ctc'})\n",
    "\n",
    "# A ce stade on n'a que les prospects qui ont eu au moins 1 session complète avant leur 1er CTC.\n",
    "# On veut inclure tous les prospects\n",
    "df_sessions_CTC1 = pd.merge(\n",
    "                        left = df_prospects['user_id'],\n",
    "                        right = df_sessions_CTC1,\n",
    "                        how = 'left',\n",
    "                        on = 'user_id'\n",
    "                    )\n",
    "\n",
    "# En ensuite on remplace les NaN par 0 (cad 0 session avant le 1er CTC, cad la 1ere session est celle du 1er CTC)\n",
    "df_sessions_CTC1['sessions_before_first_ctc'] = df_sessions_CTC1['sessions_before_first_ctc'].fillna(0)"
   ]
  },
  {
   "cell_type": "markdown",
   "id": "b1e640be",
   "metadata": {},
   "source": [
    "**Temps total de session et nombre de clics avant le 1er CTC**"
   ]
  },
  {
   "cell_type": "code",
   "execution_count": null,
   "id": "f210a2d2",
   "metadata": {},
   "outputs": [],
   "source": [
    "# On commence par ajouter les données par événement et par page calculées plus haut\n",
    "df_pevents = df_pevents.merge(df_event_duration, how='left', on=['user_id', 'event_timestamp'])"
   ]
  },
  {
   "cell_type": "code",
   "execution_count": null,
   "id": "13a38665",
   "metadata": {},
   "outputs": [],
   "source": [
    "# On crée une colonne qui indique si l'événement est antérieur au 1er CTC de l'utilisateur\n",
    "df_pevents['event_before_first_ctc'] = (df_pevents['event_timestamp'] < df_pevents['first_ctc_timestamp'])"
   ]
  },
  {
   "cell_type": "code",
   "execution_count": null,
   "id": "de494e7e",
   "metadata": {},
   "outputs": [],
   "source": [
    "# On extrait les infos pertinentes\n",
    "df_time_CTC1 = df_pevents[['user_id', 'event_before_first_ctc', 'event_duration_in_sec']]\n",
    "\n",
    "# On filtre les événements antérieurs au 1er CTC et on procède au groupby + agg\n",
    "# count: nombre de clics avant le CTC\n",
    "# sum: temps en ligne avant le CTC\n",
    "df_time_CTC1 = df_time_CTC1[df_time_CTC1['event_before_first_ctc']==True]\\\n",
    "                            .groupby('user_id')\\\n",
    "                            .agg({'event_duration_in_sec':['count','sum']})\\\n",
    "                            .droplevel(level=0, axis=1)\\\n",
    "                            .reset_index()\\\n",
    "                            .rename(columns={\n",
    "                                'count':'clicks_before_first_ctc',\n",
    "                                'sum':'time_online_before_first_ctc_in_sec'\n",
    "                            })"
   ]
  },
  {
   "cell_type": "markdown",
   "id": "14d39303",
   "metadata": {},
   "source": [
    "**Temps calendaire entre la 1ère visite et le 1er CTC**"
   ]
  },
  {
   "cell_type": "code",
   "execution_count": null,
   "id": "f861fa0c",
   "metadata": {},
   "outputs": [],
   "source": [
    "# On convertit la différence en jours\n",
    "df_pevents['days_to_first_ctc'] = (df_pevents['first_ctc_timestamp'] - df_pevents['first_session_started_at']).dt.days"
   ]
  },
  {
   "cell_type": "markdown",
   "id": "8deea875",
   "metadata": {},
   "source": [
    "**Page du 1er et du dernier CTC, date du dernier CTC**"
   ]
  },
  {
   "cell_type": "code",
   "execution_count": null,
   "id": "9627db09",
   "metadata": {},
   "outputs": [],
   "source": [
    "# On filtre df_events par 'event_type' == 'CTC' et on extrait les colonnes utiles\n",
    "df_firstctc_page = df_events[df_events['event_type']=='CTC'][['user_id','event_timestamp','page']]\\\n",
    "\n",
    "# On trie puis on supprime les doublons pour ne garder que le 1er CTC, dont on ne conserve que la page (et le user_id)\n",
    "df_firstctc_page = df_firstctc_page.sort_values(['user_id', 'event_timestamp'])\\\n",
    "                        .drop_duplicates(subset='user_id')\\\n",
    "                        .drop(columns='event_timestamp')\\\n",
    "                        .rename(columns={'page':'first_ctc_page'})\\\n",
    "                        .reset_index(drop=True)\n",
    "\n",
    "# On fait la même chose pour extraire la page du dernier CTC\n",
    "df_lastctc_page = df_events[df_events['event_type']=='CTC'][['user_id','event_timestamp','page']]\\\n",
    "                        .sort_values(['user_id', 'event_timestamp'], ascending=[True, False])\\\n",
    "                        .drop_duplicates(subset='user_id')\\\n",
    "                        .rename(columns={'page':'last_ctc_page'})\\\n",
    "                        .reset_index(drop=True)\n",
    "\n",
    "# On convertit le timestamp en date\n",
    "df_lastctc_page['last_ctc_date'] = df_lastctc_page['event_timestamp'].dt.date \n",
    "\n",
    "# On supprime le timestamp dont on n'a plus besoin\n",
    "df_lastctc_page = df_lastctc_page.drop(columns='event_timestamp')"
   ]
  },
  {
   "cell_type": "markdown",
   "id": "acb9298a",
   "metadata": {},
   "source": [
    "**Méga jointure**"
   ]
  },
  {
   "cell_type": "code",
   "execution_count": null,
   "id": "8dbdecaf",
   "metadata": {},
   "outputs": [],
   "source": [
    "df_prospects_metrics = df_profiles.merge(df_clickcount, on='user_id')\\\n",
    "                            .merge(df_sessions_CTC1, on='user_id', how='left').fillna({'sessions_before_first_CTC':0})\\\n",
    "                            .merge(df_time_CTC1, on='user_id', how='left')\\\n",
    "                            .merge(df_pevents[['user_id','days_to_first_ctc', 'first_ctc_campaign_id']].drop_duplicates(), on='user_id', how='left')\\\n",
    "                            .merge(df_firstctc_page, on='user_id', how='left')\\\n",
    "                            .merge(df_lastctc_page, on='user_id', how='left')"
   ]
  },
  {
   "cell_type": "markdown",
   "id": "3a0c2dbc",
   "metadata": {},
   "source": [
    "**Table finale**"
   ]
  },
  {
   "cell_type": "code",
   "execution_count": null,
   "id": "be7e78e7",
   "metadata": {},
   "outputs": [],
   "source": [
    "df_prospects_metrics"
   ]
  },
  {
   "cell_type": "markdown",
   "id": "0d1752b7",
   "metadata": {},
   "source": [
    "# 6. Analyses / Réponses aux questions"
   ]
  },
  {
   "cell_type": "markdown",
   "id": "86c7a03e",
   "metadata": {},
   "source": [
    "## 6. Objectif A"
   ]
  },
  {
   "cell_type": "markdown",
   "id": "441ef03a",
   "metadata": {},
   "source": [
    "**On trace ici quelques premiers graphiques, mais l'analyse sera menée sur Power BI**"
   ]
  },
  {
   "cell_type": "code",
   "execution_count": null,
   "id": "de9e1ead",
   "metadata": {},
   "outputs": [],
   "source": [
    "x = df_campaigns_metrics['campaign_id']\n",
    "fig, ax1 = plt.subplots()\n",
    "\n",
    "ax2 = ax1.twinx()\n",
    "\n",
    "sns.barplot(df_campaigns_metrics, x=x, y=df_campaigns_metrics['sum_click'], palette = 'Blues', hue=df_campaigns_metrics['campaign_type'], ax=ax1)\n",
    "sns.stripplot(df_campaigns_metrics, x=x, y=df_campaigns_metrics['cost_per_click'], color='red', ax=ax2)\n",
    "\n",
    "ax1.set_xlabel('Campaign id')\n",
    "ax1.set_ylabel('Click count')\n",
    "ax2.set_ylabel('Cost per click')\n",
    "\n",
    "ax1.set_xticks(x)\n",
    "ax1.set_xticklabels(ax1.get_xticklabels(), rotation=70)\n",
    "\n",
    "# On calcule la moyenne du coût par clic (cpc)\n",
    "mean_cpc = round(df_campaigns_metrics['total_cost'].sum() / df_campaigns_metrics['sum_click'].sum(), 2)\n",
    "\n",
    "# On calcule l'écart-type du cpc (on revient à la formule mathématique pour bien pondérer par le nb de clics) \n",
    "std_cpc = round(np.sqrt(1/df_campaigns_metrics['sum_click'].sum()\\\n",
    "                *(df_campaigns_metrics['sum_click']*(df_campaigns_metrics['cost_per_click'] - mean_cpc)**2).sum()),2)\n",
    "std_over_mean_cpc = round(std_cpc/mean_cpc, 2)\n",
    "\n",
    "plt.title(f'Cost per click comparison, mean = {mean_cpc}, std = {std_over_mean_cpc*100}% of mean');"
   ]
  },
  {
   "cell_type": "code",
   "execution_count": null,
   "id": "409bf357",
   "metadata": {
    "scrolled": false
   },
   "outputs": [],
   "source": [
    "x = df_campaigns_metrics['campaign_id']\n",
    "fig, ax1 = plt.subplots()\n",
    "\n",
    "ax2 = ax1.twinx()\n",
    "\n",
    "sns.barplot(df_campaigns_metrics, x=x, y=df_campaigns_metrics['sum_ctc'], palette = 'Blues', hue=df_campaigns_metrics['campaign_type'], ax=ax1)\n",
    "sns.stripplot(df_campaigns_metrics, x=x, y=df_campaigns_metrics['cost_per_ctc'], color='red', ax=ax2)\n",
    "\n",
    "ax1.set_xlabel('Campaign id')\n",
    "ax1.set_ylabel('CTC count')\n",
    "ax2.set_ylabel('Cost per CTC')\n",
    "\n",
    "ax1.set_xticks(x)\n",
    "ax1.set_xticklabels(ax1.get_xticklabels(), rotation=70)\n",
    "\n",
    "# On calcule la moyenne du coût par ctc (cpctc)\n",
    "mean_cpctc = round(df_campaigns_metrics['total_cost'].sum() / df_campaigns_metrics['sum_ctc'].sum(), 2)\n",
    "\n",
    "# On calcule l'écart-type du cpctc (on revient à la formule mathématique pour bien pondérer par le nb de ctc)\n",
    "std_cpctc = round(np.sqrt(1/df_campaigns_metrics['sum_ctc'].sum()\\\n",
    "                *(df_campaigns_metrics['sum_ctc']*(df_campaigns_metrics['cost_per_ctc'] - mean_cpctc)**2).sum()),2)\n",
    "\n",
    "std_over_mean_cpctc = round(std_cpctc/mean_cpctc, 2)\n",
    "\n",
    "plt.title(f'Cost per CTC comparison, mean = {mean_cpctc}, std = {std_over_mean_cpctc*100}% of mean');"
   ]
  },
  {
   "cell_type": "code",
   "execution_count": null,
   "id": "debde7ec",
   "metadata": {
    "scrolled": false
   },
   "outputs": [],
   "source": [
    "x = df_campaigns_metrics['campaign_id']\n",
    "fig, ax1 = plt.subplots()\n",
    "\n",
    "ax2 = ax1.twinx()\n",
    "\n",
    "sns.barplot(df_campaigns_metrics, x=x, y=df_campaigns_metrics['prospect_created'], palette = 'Blues', hue=df_campaigns_metrics['campaign_type'], ax=ax1)\n",
    "sns.stripplot(df_campaigns_metrics, x=x, y=df_campaigns_metrics['cost_per_prospect'], color='red', ax=ax2)\n",
    "\n",
    "ax1.set_xlabel('Campaign id')\n",
    "ax1.set_ylabel('Prospect count')\n",
    "ax2.set_ylabel('Cost per prospect')\n",
    "\n",
    "ax1.set_xticks(x)\n",
    "ax1.set_xticklabels(ax1.get_xticklabels(), rotation=70)\n",
    "\n",
    "# On calcule la moyenne du coût par prospect (cppro)\n",
    "mean_cppro = round(df_campaigns_metrics['total_cost'].sum() / df_campaigns_metrics['prospect_created'].sum(), 2)\n",
    "std_cppro = round(np.sqrt(1/df_campaigns_metrics['prospect_created'].sum()\\\n",
    "                *(df_campaigns_metrics['prospect_created']*(df_campaigns_metrics['cost_per_prospect'] - mean_cppro)**2).sum()),2)\n",
    "std_over_mean_cppro = round(std_cppro/mean_cppro, 2)\n",
    "\n",
    "plt.title(f'Cost per prospect comparison, mean = {mean_cppro}, std = {std_over_mean_cppro*100}% of mean');"
   ]
  },
  {
   "cell_type": "markdown",
   "id": "8455b165",
   "metadata": {},
   "source": [
    "**Quelques éléments par page**"
   ]
  },
  {
   "cell_type": "code",
   "execution_count": null,
   "id": "a0f95c60",
   "metadata": {},
   "outputs": [],
   "source": [
    "sns.barplot(data=df_campaign_pagefocus, x='campaign_id', y='cumul_time_in_sec', hue='page')\n",
    "plt.xticks(rotation=70);"
   ]
  },
  {
   "cell_type": "code",
   "execution_count": null,
   "id": "b1912623",
   "metadata": {},
   "outputs": [],
   "source": [
    "sns.barplot(data=df_campaign_pagefocus, x='campaign_id', y='CTC_count', hue='page')\n",
    "plt.xticks(rotation=70);"
   ]
  },
  {
   "cell_type": "markdown",
   "id": "3b1baa5c",
   "metadata": {},
   "source": [
    "## 6. Objectif B"
   ]
  },
  {
   "cell_type": "markdown",
   "id": "1c2c7e74",
   "metadata": {},
   "source": [
    "### Tentative de clustering sur toutes les données de df_users_metrics"
   ]
  },
  {
   "cell_type": "markdown",
   "id": "162bfca1",
   "metadata": {},
   "source": [
    "**On importe les librairies de clustering**"
   ]
  },
  {
   "cell_type": "code",
   "execution_count": null,
   "id": "4439b874",
   "metadata": {},
   "outputs": [],
   "source": [
    "from sklearn.cluster import KMeans\n",
    "from sklearn.metrics  import silhouette_score\n",
    "from sklearn.preprocessing import MinMaxScaler"
   ]
  },
  {
   "cell_type": "markdown",
   "id": "d2a1a50e",
   "metadata": {},
   "source": [
    "**On sépare les variables numériques des variables catégorielles**"
   ]
  },
  {
   "cell_type": "code",
   "execution_count": null,
   "id": "8e491465",
   "metadata": {},
   "outputs": [],
   "source": [
    "df_users_metrics_num = df_users_metrics[['session_count', 'avg_days_btw', 'sum_duration_in_min',\n",
    "                                            'avg_duration_in_min', 'visits_p1', 'visits_p2', 'visits_p3',\n",
    "                                            'visits_p4', 'visits_p5', 'visits_p6', 'time_in_sec_p1',\n",
    "                                            'time_in_sec_p2', 'time_in_sec_p3', 'time_in_sec_p4', 'time_in_sec_p5',\n",
    "                                            'time_in_sec_p6', 'perc_time_p1', 'perc_time_p2', 'perc_time_p3', \n",
    "                                            'perc_time_p4', 'perc_time_p5', 'perc_time_p6', 'ctc_p1', 'ctc_p2', 'ctc_p3', \n",
    "                                            'ctc_p4', 'ctc_p5', 'ctc_p6', 'minutes_mon', \n",
    "                                            'minutes_tue', 'minutes_wed', 'minutes_thu', 'minutes_fri', \n",
    "                                            'minutes_sat', 'minutes_sun', 'avg_mon', 'avg_tue', 'avg_wed', \n",
    "                                            'avg_thu', 'avg_fri', 'avg_sat', 'avg_sun', 'minutes_afternoon', 'minutes_evening',\n",
    "                                            'minutes_morning', 'minutes_night', 'avg_afternoon', 'avg_evening', \n",
    "                                            'avg_morning', 'avg_night']]\n",
    "\n",
    "df_users_metrics_cat = df_users_metrics[['device_type', 'device_browser', \n",
    "                                            'device_operating_system', 'device_language', 'country']]"
   ]
  },
  {
   "cell_type": "markdown",
   "id": "1d881b85",
   "metadata": {},
   "source": [
    "**Variables numériques**"
   ]
  },
  {
   "cell_type": "markdown",
   "id": "53d750ac",
   "metadata": {},
   "source": [
    "*Quel scaler utiliser ? Pour le modèle K-means, les deux sont possibles (source: chatgpt). On étudie la distribution des données*"
   ]
  },
  {
   "cell_type": "code",
   "execution_count": null,
   "id": "e898b067",
   "metadata": {
    "scrolled": false
   },
   "outputs": [],
   "source": [
    "# Je fixe mon nombre de colonnes\n",
    "nb_columns = 5\n",
    "\n",
    "# Ensuite, en faisant la division euclidienne de mon nb de variables par le nb de colonnes, j'obtiens mon nb de lignes \n",
    "nb_rows = (df_users_metrics_num.shape[1]//nb_columns)+((df_users_metrics_num.shape[1]%nb_columns)!=0)*1\n",
    "\n",
    "# Je crée une grille de graphes\n",
    "fig, axes = plt.subplots(nb_rows, nb_columns, figsize=(3*nb_columns, 3.5*nb_rows))\n",
    "\n",
    "# J'exécute une boucle pour afficher des histplots de toutes mes variables\n",
    "for j in range(nb_rows):\n",
    "    for i in range(nb_columns):\n",
    "            try:\n",
    "                sns.histplot(data=df_users_metrics_num, ax=axes[j][i], x=df_users_metrics_num.iloc[:,nb_columns*j+i]);\n",
    "            except:\n",
    "                pass"
   ]
  },
  {
   "cell_type": "markdown",
   "id": "9aa8abc8",
   "metadata": {},
   "source": [
    "Difficile de conclure. Certaines données semblent normalement distribuées, d'autres non. Dans le doute, on applique le MinMaxScaler à toutes les variables"
   ]
  },
  {
   "cell_type": "markdown",
   "id": "25765aca",
   "metadata": {},
   "source": [
    "**On applique le MinMaxScaler**"
   ]
  },
  {
   "cell_type": "code",
   "execution_count": null,
   "id": "3c980b90",
   "metadata": {},
   "outputs": [],
   "source": [
    "scaler = MinMaxScaler()\n",
    "\n",
    "df_users_metrics_num_norm = pd.DataFrame(scaler.fit_transform(df_users_metrics_num.fillna(0)), columns=df_users_metrics_num.columns)"
   ]
  },
  {
   "cell_type": "code",
   "execution_count": null,
   "id": "d5d72c8a",
   "metadata": {},
   "outputs": [],
   "source": [
    "df_users_metrics_num_norm.describe()"
   ]
  },
  {
   "cell_type": "markdown",
   "id": "50cd5150",
   "metadata": {},
   "source": [
    "**On passe les variables catégorielles au .get_dummies()**"
   ]
  },
  {
   "cell_type": "code",
   "execution_count": null,
   "id": "7f92d29b",
   "metadata": {},
   "outputs": [],
   "source": [
    "df_users_metrics_cat_norm = pd.get_dummies(df_users_metrics_cat).fillna(False)"
   ]
  },
  {
   "cell_type": "markdown",
   "id": "8d5ba431",
   "metadata": {},
   "source": [
    "**On regroupe le tout**"
   ]
  },
  {
   "cell_type": "code",
   "execution_count": null,
   "id": "f6fc4f3c",
   "metadata": {},
   "outputs": [],
   "source": [
    "df_users_metrics_norm = pd.concat([df_users_metrics['user_id'].to_frame(), df_users_metrics_num_norm, df_users_metrics_cat_norm], axis=1)\n",
    "df_users_metrics_norm"
   ]
  },
  {
   "cell_type": "markdown",
   "id": "2602acd0",
   "metadata": {},
   "source": [
    "**On extrait les noms de colonnes** "
   ]
  },
  {
   "cell_type": "code",
   "execution_count": null,
   "id": "6d6bd1e6",
   "metadata": {
    "scrolled": false
   },
   "outputs": [],
   "source": [
    "df_users_metrics_norm.drop(columns='user_id').columns"
   ]
  },
  {
   "cell_type": "markdown",
   "id": "769c0cb8",
   "metadata": {},
   "source": [
    "**On crée un dico géant permettant de gérer les éventuels poids**"
   ]
  },
  {
   "cell_type": "code",
   "execution_count": null,
   "id": "ed1d370b",
   "metadata": {},
   "outputs": [],
   "source": [
    "weights_dico = {\n",
    "    'session_count':['session_count',1], \n",
    "    'avg_days_btw':['avg_days_btw',1], \n",
    "    'sum_duration_in_min':['sum_duration_in_min',1],\n",
    "    'avg_duration_in_min':['avg_duration_in_min',1],\n",
    "    'visits_p1':['visits_p1',1],\n",
    "    'visits_p2':['visits_p2',1], \n",
    "    'visits_p3':['visits_p3',1],\n",
    "    'visits_p4':['visits_p4',1],\n",
    "    'visits_p5':['visits_p5',1],\n",
    "    'visits_p6':['visits_p6',1],\n",
    "    'time_in_sec_p1':['time_in_sec_p1',1],\n",
    "    'time_in_sec_p2':['time_in_sec_p2',1],\n",
    "    'time_in_sec_p3':['time_in_sec_p3',1],\n",
    "    'time_in_sec_p4':['time_in_sec_p4',1],\n",
    "    'time_in_sec_p5':['time_in_sec_p5',1],\n",
    "    'time_in_sec_p6':['time_in_sec_p6',1],\n",
    "    'perc_time_p1':['perc_time_p1',1],\n",
    "    'perc_time_p2':['perc_time_p2',1],\n",
    "    'perc_time_p3':['perc_time_p3',1],\n",
    "    'perc_time_p4':['perc_time_p4',1],\n",
    "    'perc_time_p5':['perc_time_p5',1],\n",
    "    'perc_time_p6':['perc_time_p6',1],\n",
    "    'ctc_p1': ['ctc_p1', 1],\n",
    "    'ctc_p2': ['ctc_p2', 1],\n",
    "    'ctc_p3': ['ctc_p3', 1],\n",
    "    'ctc_p4': ['ctc_p4', 1],\n",
    "    'ctc_p5': ['ctc_p5', 1],\n",
    "    'ctc_p6': ['ctc_p6', 1],\n",
    "    'minutes_mon':['minutes_mon',1],\n",
    "    'minutes_tue':['minutes_tue',1],\n",
    "    'minutes_wed':['minutes_wed',1],\n",
    "    'minutes_thu':['minutes_thu',1],\n",
    "    'minutes_fri':['minutes_fri',1],\n",
    "    'minutes_sat':['minutes_sat',1],\n",
    "    'minutes_sun':['minutes_sun',1],\n",
    "    'avg_mon':['avg_mon',1],\n",
    "    'avg_tue':['avg_tue',1],\n",
    "    'avg_wed':['avg_wed',1],\n",
    "    'avg_thu':['avg_thu',1],\n",
    "    'avg_fri':['avg_fri',1],\n",
    "    'avg_sat':['avg_sat',1],\n",
    "    'avg_sun':['avg_sun',1],\n",
    "    'minutes_afternoon':['minutes_afternoon',1],\n",
    "    'minutes_evening':['minutes_evening',1],\n",
    "    'minutes_morning':['minutes_morning',1],\n",
    "    'minutes_night':['minutes_night',1],\n",
    "    'avg_afternoon':['avg_afternoon',1],\n",
    "    'avg_evening':['avg_evening',1],\n",
    "    'avg_morning':['avg_morning',1],\n",
    "    'avg_night':['avg_night',1],\n",
    "    'device_type_desktop':['device_type',1],\n",
    "    'device_type_mobile':['device_type',1],   \n",
    "    'device_browser_bing':['device_browser',1],\n",
    "    'device_browser_google':['device_browser',1],\n",
    "    'device_browser_yahoo':['device_browser',1],\n",
    "    'device_operating_system_android':['device_operating_system',1], \n",
    "    'device_operating_system_ios':['device_operating_system',1],\n",
    "    'device_operating_system_windows':['device_operating_system',1],\n",
    "    'device_language_04':['device_language',1],\n",
    "    'device_language_24077':['device_language',1],\n",
    "    'device_language_28501':['device_language',1],\n",
    "    'device_language_85183':['device_language',1],\n",
    "    'device_language_861':['device_language',1],\n",
    "    'device_language_EN':['device_language',1],\n",
    "    'device_language_FR':['device_language',1],\n",
    "    'country_DE':['country',1],\n",
    "    'country_FR':['country',1],\n",
    "    'country_PT':['country',1],\n",
    "    'country_SP':['country',1],\n",
    "    'country_UK':['country',1]\n",
    "}"
   ]
  },
  {
   "cell_type": "code",
   "execution_count": null,
   "id": "30b9a8f5",
   "metadata": {},
   "outputs": [],
   "source": [
    "# On transforme ensuite le dico en dataframe\n",
    "df_weights = pd.DataFrame([tup for tup in weights_dico.items()], columns=['column_name', 'weight'])\n",
    "\n",
    "# On crée une colonne avec les noms d'origine des colonnes (modifiées par le get_dummies)\n",
    "df_weights['complete_name'] = df_weights['weight'].apply(lambda x: x[0])\n",
    "\n",
    "# On crée une colonne avec les poids de chaque variable\n",
    "df_weights['weight'] = df_weights['weight'].apply(lambda x: x[1])"
   ]
  },
  {
   "cell_type": "code",
   "execution_count": null,
   "id": "6d0376ba",
   "metadata": {},
   "outputs": [],
   "source": [
    "# On crée une liste des poids non_nuls\n",
    "X_weights = list(df_weights[df_weights['weight']!=0]['weight'])\n",
    "\n",
    "# On crée une liste des noms de colonne dont les poids sont nuls\n",
    "weights_0 = list(df_weights[df_weights['weight']==0]['column_name'])\n",
    "\n",
    "# On crée une liste des noms de colonne dont les poids sont nuls (noms d'origine non modifiés par le get_dummies)\n",
    "weights_0_complete = list(df_weights[df_weights['weight']==0]['complete_name'].drop_duplicates())\n",
    "\n",
    "# Pour pouvoir étudier les résultats du clustering, on crée un df avec seulement les colonnes dont les poids sont non nuls\n",
    "df_users_metrics_copy = df_users_metrics.drop(columns=weights_0_complete)"
   ]
  },
  {
   "cell_type": "code",
   "execution_count": null,
   "id": "8f51ef43",
   "metadata": {},
   "outputs": [],
   "source": [
    "# On extrait nos variables normalisées dont les poids sont non nuls\n",
    "X = df_users_metrics_norm.drop(columns=weights_0).drop(columns='user_id')"
   ]
  },
  {
   "cell_type": "code",
   "execution_count": null,
   "id": "632bf132",
   "metadata": {},
   "outputs": [],
   "source": [
    "'''# On étudie les résultats de k-means avec un nombre variable de clusters\n",
    "# Je mets l'algo entre guillemets pour ne pas le faire tourner à chaque fois que je fais un Run All Cells\n",
    "\n",
    "list_k = []\n",
    "list_inertie = []\n",
    "list_score = []\n",
    "\n",
    "for k in range(2,30):\n",
    "    modelKM = KMeans(n_clusters=k, n_init='auto')\n",
    "    modelKM.fit(X * X_weights)\n",
    "    list_k.append(k)\n",
    "    list_inertie.append(modelKM.inertia_)\n",
    "    list_score.append(silhouette_score(X * X_weights, modelKM.labels_))\n",
    "\n",
    "fig, ax1 = plt.subplots()\n",
    "\n",
    "ax1.plot(list_k, list_score, 'r-')\n",
    "ax1.set_xlabel('k')\n",
    "ax1.set_ylabel('Score', color='r')\n",
    "ax1.tick_params('y', colors='r')\n",
    "\n",
    "ax2 = ax1.twinx()\n",
    "ax2.plot(list_k, list_inertie, 'b-')\n",
    "ax2.set_ylabel('Inertie', color='b')\n",
    "ax2.tick_params('y', colors='b')\n",
    "\n",
    "plt.show();''';"
   ]
  },
  {
   "cell_type": "markdown",
   "id": "bf82b55e",
   "metadata": {},
   "source": [
    "**Interprétation** : les données de setup, les données temporelles et les données de préférence de page web semblent peu solubles entre elles (max silhouette score ~0.15, atteint pour une inertie élevée, ce qui indique que le modèle est peu robuste)"
   ]
  },
  {
   "cell_type": "markdown",
   "id": "2f7ea265",
   "metadata": {},
   "source": [
    "**Constat :**\n",
    "Après divers tests sur des sous-ensembles de la table df_users_metrics, le modèle k-means donne des résultats \n",
    "- Satisfaisants sur les données de setup utilisateur (max silhouette score > 0.5) \n",
    "- Peu satisfaisants sur les données temporelles et les données de pages web\n",
    "\n",
    "**Action :**\n",
    "- On utilise le modèle k-means pour créer des clusters de setups utilisateurs\n",
    "- On crée notre propre arbre de décision pour classer les utilisateurs en fonction de leurs intérêts / préférences web\n",
    "- On crée notre propre arbre de décision pour classer les utilisateurs en fonction de leurs moments de connexion privilégiés "
   ]
  },
  {
   "cell_type": "markdown",
   "id": "7d5994c8",
   "metadata": {},
   "source": [
    "### Clustering sur le setup utilisateur"
   ]
  },
  {
   "cell_type": "markdown",
   "id": "a0b1a4ed",
   "metadata": {},
   "source": [
    "**On amende les poids pour ne garder que les variables normalisées de setup**"
   ]
  },
  {
   "cell_type": "code",
   "execution_count": null,
   "id": "fb487319",
   "metadata": {},
   "outputs": [],
   "source": [
    "weights_dico = {\n",
    "    'session_count':['session_count',0], \n",
    "    'avg_days_btw':['avg_days_btw',0], \n",
    "    'sum_duration_in_min':['sum_duration_in_min',0],\n",
    "    'avg_duration_in_min':['avg_duration_in_min',0],\n",
    "    'visits_p1':['visits_p1',0],\n",
    "    'visits_p2':['visits_p2',0], \n",
    "    'visits_p3':['visits_p3',0],\n",
    "    'visits_p4':['visits_p4',0],\n",
    "    'visits_p5':['visits_p5',0],\n",
    "    'visits_p6':['visits_p6',0],\n",
    "    'time_in_sec_p1':['time_in_sec_p1',0],\n",
    "    'time_in_sec_p2':['time_in_sec_p2',0],\n",
    "    'time_in_sec_p3':['time_in_sec_p3',0],\n",
    "    'time_in_sec_p4':['time_in_sec_p4',0],\n",
    "    'time_in_sec_p5':['time_in_sec_p5',0],\n",
    "    'time_in_sec_p6':['time_in_sec_p6',0],\n",
    "    'perc_time_p1':['perc_time_p1',0],\n",
    "    'perc_time_p2':['perc_time_p2',0],\n",
    "    'perc_time_p3':['perc_time_p3',0],\n",
    "    'perc_time_p4':['perc_time_p4',0],\n",
    "    'perc_time_p5':['perc_time_p5',0],\n",
    "    'perc_time_p6':['perc_time_p6',0],\n",
    "    'ctc_p1': ['ctc_p1', 0],\n",
    "    'ctc_p2': ['ctc_p2', 0],\n",
    "    'ctc_p3': ['ctc_p3', 0],\n",
    "    'ctc_p4': ['ctc_p4', 0],\n",
    "    'ctc_p5': ['ctc_p5', 0],\n",
    "    'ctc_p6': ['ctc_p6', 0],\n",
    "    'minutes_mon':['minutes_mon',0],\n",
    "    'minutes_tue':['minutes_tue',0],\n",
    "    'minutes_wed':['minutes_wed',0],\n",
    "    'minutes_thu':['minutes_thu',0],\n",
    "    'minutes_fri':['minutes_fri',0],\n",
    "    'minutes_sat':['minutes_sat',0],\n",
    "    'minutes_sun':['minutes_sun',0],\n",
    "    'avg_mon':['avg_mon',0],\n",
    "    'avg_tue':['avg_tue',0],\n",
    "    'avg_wed':['avg_wed',0],\n",
    "    'avg_thu':['avg_thu',0],\n",
    "    'avg_fri':['avg_fri',0],\n",
    "    'avg_sat':['avg_sat',0],\n",
    "    'avg_sun':['avg_sun',0],\n",
    "    'minutes_afternoon':['minutes_afternoon',0],\n",
    "    'minutes_evening':['minutes_evening',0],\n",
    "    'minutes_morning':['minutes_morning',0],\n",
    "    'minutes_night':['minutes_night',0],\n",
    "    'avg_afternoon':['avg_afternoon',0],\n",
    "    'avg_evening':['avg_evening',0],\n",
    "    'avg_morning':['avg_morning',0],\n",
    "    'avg_night':['avg_night',0],\n",
    "    'device_type_desktop':['device_type',1],\n",
    "    'device_type_mobile':['device_type',1],   \n",
    "    'device_browser_bing':['device_browser',1],\n",
    "    'device_browser_google':['device_browser',1],\n",
    "    'device_browser_yahoo':['device_browser',1],\n",
    "    'device_operating_system_android':['device_operating_system',1], \n",
    "    'device_operating_system_ios':['device_operating_system',1],\n",
    "    'device_operating_system_windows':['device_operating_system',1],\n",
    "    'device_language_04':['device_language',1],\n",
    "    'device_language_24077':['device_language',1],\n",
    "    'device_language_28501':['device_language',1],\n",
    "    'device_language_85183':['device_language',1],\n",
    "    'device_language_861':['device_language',1],\n",
    "    'device_language_EN':['device_language',1],\n",
    "    'device_language_FR':['device_language',1],\n",
    "    'country_DE':['country',1],\n",
    "    'country_FR':['country',1],\n",
    "    'country_PT':['country',1],\n",
    "    'country_SP':['country',1],\n",
    "    'country_UK':['country',1]\n",
    "}"
   ]
  },
  {
   "cell_type": "code",
   "execution_count": null,
   "id": "649d7b5b",
   "metadata": {},
   "outputs": [],
   "source": [
    "df_weights = pd.DataFrame([tup for tup in weights_dico.items()], columns=['column_name', 'weight'])\n",
    "df_weights['complete_name'] = df_weights['weight'].apply(lambda x: x[0])\n",
    "df_weights['weight'] = df_weights['weight'].apply(lambda x: x[1])"
   ]
  },
  {
   "cell_type": "code",
   "execution_count": null,
   "id": "3f7f180c",
   "metadata": {},
   "outputs": [],
   "source": [
    "X_weights = list(df_weights[df_weights['weight']!=0]['weight'])\n",
    "weights_0 = list(df_weights[df_weights['weight']==0]['column_name'])\n",
    "weights_0_complete = list(df_weights[df_weights['weight']==0]['complete_name'].drop_duplicates())\n",
    "\n",
    "df_users_setup = df_users_metrics.drop(columns=weights_0_complete)"
   ]
  },
  {
   "cell_type": "code",
   "execution_count": null,
   "id": "c36500bb",
   "metadata": {},
   "outputs": [],
   "source": [
    "X = df_users_metrics_norm.drop(columns=weights_0).drop(columns='user_id')"
   ]
  },
  {
   "cell_type": "code",
   "execution_count": null,
   "id": "34e79a05",
   "metadata": {},
   "outputs": [],
   "source": [
    "# Je le mets entre crochets pour ne pas le faire tourner à chaque fois que je fais un Run All Cells\n",
    "\n",
    "'''list_k = []\n",
    "list_inertie = []\n",
    "list_score = []\n",
    "\n",
    "for k in range(2,30):\n",
    "    modelKM = KMeans(n_clusters=k, n_init='auto')\n",
    "    modelKM.fit(X * X_weights)\n",
    "    list_k.append(k)\n",
    "    list_inertie.append(modelKM.inertia_)\n",
    "    list_score.append(silhouette_score(X * X_weights, modelKM.labels_))\n",
    "\n",
    "fig, ax1 = plt.subplots()\n",
    "\n",
    "ax1.plot(list_k, list_score, 'r-')\n",
    "ax1.set_xlabel('k')\n",
    "ax1.set_ylabel('Score', color='r')\n",
    "ax1.tick_params('y', colors='r')\n",
    "\n",
    "ax2 = ax1.twinx()\n",
    "ax2.plot(list_k, list_inertie, 'b-')\n",
    "ax2.set_ylabel('Inertie', color='b')\n",
    "ax2.tick_params('y', colors='b')\n",
    "\n",
    "plt.show();''';"
   ]
  },
  {
   "cell_type": "markdown",
   "id": "ed001484",
   "metadata": {},
   "source": [
    "Il semblerait que n = 12 soit un bon compromis (\"coude\" de la courbe d'inertie, score de silhouette > 0.5)"
   ]
  },
  {
   "cell_type": "code",
   "execution_count": null,
   "id": "30e6a878",
   "metadata": {},
   "outputs": [],
   "source": [
    "n = 12"
   ]
  },
  {
   "cell_type": "code",
   "execution_count": null,
   "id": "9d7b2cdc",
   "metadata": {},
   "outputs": [],
   "source": [
    "modelKM = KMeans(n_clusters=n, n_init='auto')\n",
    "modelKM.fit(X * X_weights)\n",
    "df_users_setup['setup_cluster'] = pd.DataFrame(modelKM.labels_)"
   ]
  },
  {
   "cell_type": "code",
   "execution_count": null,
   "id": "3b5aab93",
   "metadata": {},
   "outputs": [],
   "source": [
    "# On compte le nb de users dans chaque cluster\n",
    "df_users_setup['setup_cluster'].value_counts()"
   ]
  },
  {
   "cell_type": "code",
   "execution_count": null,
   "id": "1a2330c4",
   "metadata": {
    "scrolled": true
   },
   "outputs": [],
   "source": [
    "# On regarde un échantillon de chaque cluster pour comprendre sur quelles bases ils sont regroupés\n",
    "for i in range(n):\n",
    "    print(f'cluster {i}')\n",
    "    display(df_users_setup[df_users_setup['setup_cluster']==i].sample(10))"
   ]
  },
  {
   "cell_type": "markdown",
   "id": "d047b3e0",
   "metadata": {},
   "source": [
    "### Arbre de décision pour grouper les users par intérêts / préférences de pages web"
   ]
  },
  {
   "cell_type": "markdown",
   "id": "386a31b7",
   "metadata": {},
   "source": [
    "**Arbre de décision proposé :**\n",
    "\n",
    "- **Etape 1** : On regarde si l'utilisateur a fait un ou plusieurs CTC\n",
    "    - *Cas 1.1* : il a fait au moins un CTC sur plusieurs pages différentes -> cet utilisateur a des \"préférences multiples\"\n",
    "    - *Cas 1.2* : il a fait au moins un CTC sur une page unique -> cette page devient sa page préférée\n",
    "    - *Cas 1.3* : il n'a pas fait de CTC -> on passe à l'étape 2\n",
    "- **Etape 2** : On regarde le temps (en sec) passé par l'utilisateur sur chaque page. On compte le nombre de pages où il a passé plus de temps que l'utilisateur médian. Le cas échéant, on considère qu'il est intéressé par cette page.\n",
    "    - *Cas 2.1* : il est intéressé par plusieurs pages\n",
    "        - Cas 2.1.1 : une de ces pages se démarque des autres en % de temps consacré (eg. si la page sur laquelle il a passé le plus de temps dépasse de 20 ppts la 2e page sur laquelle il a passé le plus de temps) -> cette page devient sa page préférée\n",
    "        - Cas 2.1.2 : aucune page ne se démarque des autres -> cet utilisateur a des \"préférences multiples\"\n",
    "    - *Cas 2.2* : il est intéressé par une page unique -> cette page devient sa page préférée\n",
    "    - *Cas 2.3* : il n'est intéressé par aucune page -> cet utilisateur n'a qu'un \"intérêt limité\""
   ]
  },
  {
   "cell_type": "markdown",
   "id": "3e0ebd1b",
   "metadata": {},
   "source": [
    "**On crée la table requise**"
   ]
  },
  {
   "cell_type": "code",
   "execution_count": null,
   "id": "4867eeb6",
   "metadata": {},
   "outputs": [],
   "source": [
    "# On extrait les données requises\n",
    "subdf_users_metrics = df_users_metrics[['user_id', 'session_count', 'visits_p1', 'visits_p2', 'visits_p3',\n",
    "                   'visits_p4', 'visits_p5', 'visits_p6', 'time_in_sec_p1',\n",
    "                   'time_in_sec_p2', 'time_in_sec_p3', 'time_in_sec_p4', 'time_in_sec_p5',\n",
    "                   'time_in_sec_p6', 'perc_time_p1', 'perc_time_p2', 'perc_time_p3',\n",
    "                   'perc_time_p4', 'perc_time_p5', 'perc_time_p6', 'ctc_p1', 'ctc_p2', 'ctc_p3', 'ctc_p4', 'ctc_p5', 'ctc_p6']]\n",
    "\n",
    "df_page_pref = subdf_users_metrics[['user_id', 'session_count']]\n",
    "\n",
    "# Pour l'étape 1 : l'utilisateur a-t-il fait un CTC sur les pages ?\n",
    "df_page_pref['ctc_p1'] = (subdf_users_metrics['ctc_p1'] > 0)\n",
    "df_page_pref['ctc_p2'] = (subdf_users_metrics['ctc_p2'] > 0)\n",
    "df_page_pref['ctc_p3'] = (subdf_users_metrics['ctc_p3'] > 0)\n",
    "df_page_pref['ctc_p4'] = (subdf_users_metrics['ctc_p4'] > 0)\n",
    "df_page_pref['ctc_p5'] = (subdf_users_metrics['ctc_p5'] > 0)\n",
    "df_page_pref['ctc_p6'] = (subdf_users_metrics['ctc_p6'] > 0)\n",
    "\n",
    "# On compte les pages (distinctes) où il a fait un CTC\n",
    "df_page_pref['ctc_page_count'] = df_page_pref[['ctc_p1', 'ctc_p2', 'ctc_p3', 'ctc_p4', 'ctc_p5', 'ctc_p6']].sum(axis=1)\n",
    "\n",
    "# Pour l'étape 2 : temps sur chaque page\n",
    "df_page_pref['time_p1'] = subdf_users_metrics['time_in_sec_p1']\n",
    "df_page_pref['time_p2'] = subdf_users_metrics['time_in_sec_p2']\n",
    "df_page_pref['time_p3'] = subdf_users_metrics['time_in_sec_p3']\n",
    "df_page_pref['time_p4'] = subdf_users_metrics['time_in_sec_p4']\n",
    "df_page_pref['time_p5'] = subdf_users_metrics['time_in_sec_p5']\n",
    "df_page_pref['time_p6'] = subdf_users_metrics['time_in_sec_p6']\n",
    "\n",
    "# Pour l'étape 2 : l'utilisateur a-t-il passé plus de temps sur chaque page que l'utilisateur median ?\n",
    "df_page_pref['liked_p1'] = (subdf_users_metrics['time_in_sec_p1'] >= subdf_users_metrics['time_in_sec_p1'].median())\n",
    "df_page_pref['liked_p2'] = (subdf_users_metrics['time_in_sec_p2'] >= subdf_users_metrics['time_in_sec_p2'].median())\n",
    "df_page_pref['liked_p3'] = (subdf_users_metrics['time_in_sec_p3'] >= subdf_users_metrics['time_in_sec_p3'].median())\n",
    "df_page_pref['liked_p4'] = (subdf_users_metrics['time_in_sec_p4'] >= subdf_users_metrics['time_in_sec_p4'].median())\n",
    "df_page_pref['liked_p5'] = (subdf_users_metrics['time_in_sec_p5'] >= subdf_users_metrics['time_in_sec_p5'].median())\n",
    "df_page_pref['liked_p6'] = (subdf_users_metrics['time_in_sec_p6'] >= subdf_users_metrics['time_in_sec_p6'].median())\n",
    "\n",
    "# Pour l'étape 2 : on compte les pages où il a passé plus de temps que l'utilisateur median\n",
    "df_page_pref['page_liked_count'] = df_page_pref[['liked_p1', 'liked_p2', 'liked_p3', 'liked_p4', 'liked_p5', 'liked_p6']].sum(axis=1)\n",
    "\n",
    "# Pour l'étape 2.1 : on calcule l'écart (en points de pourcentage) entre :\n",
    "    # la page où il a passé le plus de temps = row.max(), et\n",
    "    # la 2e page où il a passé le plus de temps = row.nlargest(2).iloc[-1]\n",
    "    \n",
    "df_page_pref['perc_gap'] = subdf_users_metrics[['perc_time_p1', 'perc_time_p2', 'perc_time_p3', 'perc_time_p4', 'perc_time_p5', 'perc_time_p6']]\\\n",
    "                                .apply(lambda row: row.max() - row.nlargest(2).iloc[-1], axis=1)"
   ]
  },
  {
   "cell_type": "code",
   "execution_count": null,
   "id": "69ec3889",
   "metadata": {},
   "outputs": [],
   "source": [
    "# On définit la fonction qui reproduit l'arbre de décision expliqué ci-avant\n",
    "def user_preference(row):\n",
    "    if row['ctc_page_count'] > 1:\n",
    "        return 'Multipages'\n",
    "    elif row['ctc_page_count'] == 1:\n",
    "        return f\"Page {row[['ctc_p1','ctc_p2','ctc_p3','ctc_p4','ctc_p5','ctc_p6']].idxmax()[-1]}\"\n",
    "    else:\n",
    "        if row['page_liked_count'] > 1:\n",
    "            if row['perc_gap'] >= 0.2:\n",
    "                return f\"Page {row[['time_p1', 'time_p2', 'time_p3', 'time_p4', 'time_p5', 'time_p6']].idxmax()[-1]}\"\n",
    "            else:\n",
    "                return 'Multipages'\n",
    "        elif row['page_liked_count'] == 1:\n",
    "            return f\"Page {row[['liked_p1', 'liked_p2', 'liked_p3', 'liked_p4', 'liked_p5', 'liked_p6']].idxmax()[-1]}\"\n",
    "        else:\n",
    "            return \"Peu intéressé\""
   ]
  },
  {
   "cell_type": "code",
   "execution_count": null,
   "id": "1459360d",
   "metadata": {},
   "outputs": [],
   "source": [
    "# On crée la colonne de segmentation et on regarde les résultats\n",
    "df_page_pref['user_preference'] = df_page_pref.apply(user_preference, axis=1)\n",
    "df_page_pref['user_preference'].value_counts()"
   ]
  },
  {
   "cell_type": "markdown",
   "id": "d93e8878",
   "metadata": {},
   "source": [
    "### Arbre de décision pour grouper les users par comportement (habitudes de connexion)"
   ]
  },
  {
   "cell_type": "markdown",
   "id": "419c7a40",
   "metadata": {},
   "source": [
    "**On cherche d'éventuelles corrélations entre les variables temporelles (jour de la semaine / moment de la journée)**"
   ]
  },
  {
   "cell_type": "code",
   "execution_count": null,
   "id": "5c2ab51d",
   "metadata": {},
   "outputs": [],
   "source": [
    "# On extrait les données temporelles\n",
    "df_timefocus = df_users_metrics[['user_id','minutes_mon', 'minutes_tue', 'minutes_wed', 'minutes_thu', 'minutes_fri', 'minutes_sat', 'minutes_sun', \n",
    "                                 'minutes_afternoon', 'minutes_evening', 'minutes_morning', 'minutes_night']]\n",
    "\n",
    "# On regroupe par jour de semaine / jour de weekend\n",
    "df_timefocus['minutes_weekday'] = df_timefocus[['minutes_mon', 'minutes_tue', 'minutes_wed', 'minutes_thu', 'minutes_fri']].sum(axis=1)\n",
    "df_timefocus['total_minutes_days'] = df_timefocus[['minutes_mon', 'minutes_tue', 'minutes_wed', 'minutes_thu', 'minutes_fri', 'minutes_sat', 'minutes_sun']].sum(axis=1)\n",
    "df_timefocus['perc_on_weekday'] = df_timefocus['minutes_weekday'] / df_timefocus['total_minutes_days']\n",
    "\n",
    "# On regroupe par temps de jour / temps de nuit\n",
    "df_timefocus['minutes_workinghours'] = df_timefocus[['minutes_morning', 'minutes_afternoon']].sum(axis=1)\n",
    "df_timefocus['total_minutes_period'] = df_timefocus[['minutes_afternoon', 'minutes_evening', 'minutes_night', 'minutes_morning']].sum(axis=1)\n",
    "df_timefocus['perc_on_workinghours'] = df_timefocus['minutes_workinghours'] / df_timefocus['total_minutes_period']\n",
    "\n",
    "# On cherche une éventuelle corrélation\n",
    "df_timefocus[['perc_on_weekday','perc_on_workinghours']].corr()"
   ]
  },
  {
   "cell_type": "markdown",
   "id": "ac197155",
   "metadata": {},
   "source": [
    "Aucune corrélation.\n",
    "\n",
    "Mais on peut quand même créer des segments."
   ]
  },
  {
   "cell_type": "markdown",
   "id": "e1215668",
   "metadata": {},
   "source": [
    "**Proposition d'arbre de décision**\n",
    "\n",
    "Jour / nuit :\n",
    "- day (% connexion de jour > 2/3)\n",
    "- night (% connexion de nuit > 2/3)\n",
    "- no pattern (autres cas)\n",
    "\n",
    "Semaine / weekend :\n",
    "- weekday (% connexion en semaine > 2/3)\n",
    "- weekend (% connexion le weekend > 2/3)\n",
    "- no pattern (autres cas)\n",
    "\n",
    "Ce qui donne :\n",
    "- (day, weekday) = weekday daytime\n",
    "- (day, weekend) = weekend daytime\n",
    "- (day, no pattern) = daytime\n",
    "- (night, weekday) = weekday nighttime\n",
    "- (night, weekend) = weekend nighttime\n",
    "- (night, no pattern) = nighttime\n",
    "- (no pattern, weekday) = weekday\n",
    "- (no pattern, weekend) = weekend\n",
    "- (no pattern, no pattern) = no pattern"
   ]
  },
  {
   "cell_type": "code",
   "execution_count": null,
   "id": "84b53647",
   "metadata": {},
   "outputs": [],
   "source": [
    "# On définit la fonction qui reproduit l'arbre ci-avant\n",
    "def user_behavior(row):\n",
    "    string = ''\n",
    "    if row['perc_on_weekday'] > 2/3:\n",
    "        string += 'Semaine'\n",
    "    elif row['perc_on_weekday'] < 1/3:\n",
    "        string += 'Weekend'\n",
    "    else:\n",
    "        string = ''\n",
    "    if row['perc_on_workinghours'] > 2/3:\n",
    "        string += ' Jour'\n",
    "    elif row['perc_on_workinghours'] < 1/3:\n",
    "        string += ' Nuit'\n",
    "    else:\n",
    "        if string == '':\n",
    "            string = 'Pas de préférence'\n",
    "        else:\n",
    "            string += ''\n",
    "    return string.strip()"
   ]
  },
  {
   "cell_type": "code",
   "execution_count": null,
   "id": "a933055d",
   "metadata": {},
   "outputs": [],
   "source": [
    "# On crée la colonne de segmentation et on étudie les résultats\n",
    "df_timefocus['user_behavior'] = df_timefocus.apply(user_behavior, axis=1)\n",
    "df_timefocus['user_behavior'].value_counts()"
   ]
  },
  {
   "cell_type": "markdown",
   "id": "1481f6d1",
   "metadata": {},
   "source": [
    "### Conclusion : jointure des différentes segmentations"
   ]
  },
  {
   "cell_type": "code",
   "execution_count": null,
   "id": "8a34602d",
   "metadata": {},
   "outputs": [],
   "source": [
    "df_users_segments = df_users_setup[['user_id', 'setup_cluster']]\\\n",
    "                                .merge(df_page_pref[['user_id', 'user_preference']], on='user_id')\\\n",
    "                                .merge(df_timefocus[['user_id', 'user_behavior']], on='user_id')"
   ]
  },
  {
   "cell_type": "markdown",
   "id": "2d4e4c25",
   "metadata": {},
   "source": [
    "**Table finale**"
   ]
  },
  {
   "cell_type": "code",
   "execution_count": null,
   "id": "a6925ba2",
   "metadata": {},
   "outputs": [],
   "source": [
    "df_users_segments"
   ]
  },
  {
   "cell_type": "code",
   "execution_count": null,
   "id": "855513e1",
   "metadata": {},
   "outputs": [],
   "source": [
    "df_users_segments[['setup_cluster', 'user_preference', 'user_behavior']].value_counts().to_frame()\\\n",
    "                        .sort_values(['setup_cluster', 'count'], ascending=[True, False]).reset_index()"
   ]
  },
  {
   "cell_type": "markdown",
   "id": "b960b1ca",
   "metadata": {},
   "source": [
    "## 6. Objectif C"
   ]
  },
  {
   "cell_type": "markdown",
   "id": "51d30ba4",
   "metadata": {},
   "source": [
    "**On sépare les variables numériques des variables catégorielles**"
   ]
  },
  {
   "cell_type": "code",
   "execution_count": null,
   "id": "36c7865d",
   "metadata": {},
   "outputs": [],
   "source": [
    "# On enlève les colonnes dont on ne se servira pas\n",
    "df_prospects_metrics_vf = df_prospects_metrics\\\n",
    "                            .drop(columns=['prospect_id', 'prospect_creation_date', 'age_cat_w20', 'age_cat_w30'])\n",
    "\n",
    "df_prospects_num = df_prospects_metrics_vf[['session_count', 'avg_days_btw', 'sum_duration_in_min', 'age', 'CTC', 'click', 'clicks_before_first_ctc', 'sessions_before_first_ctc', 'time_online_before_first_ctc_in_sec', 'days_to_first_ctc']]\n",
    "\n",
    "df_prospects_cat = df_prospects_metrics_vf[['gender', 'first_ctc_page', 'last_ctc_page']]"
   ]
  },
  {
   "cell_type": "markdown",
   "id": "9240625d",
   "metadata": {},
   "source": [
    "**Variables numériques**"
   ]
  },
  {
   "cell_type": "markdown",
   "id": "71a734e4",
   "metadata": {},
   "source": [
    "*On étudie la distribution des données*"
   ]
  },
  {
   "cell_type": "code",
   "execution_count": null,
   "id": "73b93a36",
   "metadata": {},
   "outputs": [],
   "source": [
    "# Même principe que plus haut\n",
    "\n",
    "nb_columns = 5\n",
    "nb_rows = (df_prospects_num.shape[1]//nb_columns)+((df_prospects_num.shape[1]%nb_columns)!=0)*1\n",
    "\n",
    "fig, axes = plt.subplots(nb_rows, nb_columns, figsize=(3*nb_columns, 3.5*nb_rows))\n",
    "\n",
    "for j in range(nb_rows):\n",
    "    for i in range(nb_columns):\n",
    "            try:\n",
    "                sns.histplot(data=df_prospects_num, ax=axes[j][i], x=df_prospects_num.iloc[:,nb_columns*j+i]);\n",
    "            except:\n",
    "                pass"
   ]
  },
  {
   "cell_type": "markdown",
   "id": "239e2d8f",
   "metadata": {},
   "source": [
    "**On passe les variables numériques au minmaxscaler**"
   ]
  },
  {
   "cell_type": "code",
   "execution_count": null,
   "id": "f283d2d8",
   "metadata": {},
   "outputs": [],
   "source": [
    "scaler_minmax = MinMaxScaler()\n",
    "\n",
    "df_prospects_num_norm = pd.DataFrame(scaler_minmax.fit_transform(df_prospects_num), columns=df_prospects_num.columns)"
   ]
  },
  {
   "cell_type": "markdown",
   "id": "6b1dce6f",
   "metadata": {},
   "source": [
    "**On passe les variables catégorielles au get_dummies**"
   ]
  },
  {
   "cell_type": "code",
   "execution_count": null,
   "id": "44f963bf",
   "metadata": {},
   "outputs": [],
   "source": [
    "df_prospects_cat_norm = pd.get_dummies(df_prospects_cat)"
   ]
  },
  {
   "cell_type": "markdown",
   "id": "82f683f7",
   "metadata": {},
   "source": [
    "**On regroupe le tout**"
   ]
  },
  {
   "cell_type": "code",
   "execution_count": null,
   "id": "722a03fe",
   "metadata": {},
   "outputs": [],
   "source": [
    "df_prospects_Xnorm = pd.concat(axis = 1, objs = [\n",
    "                                            df_prospects_metrics_vf['user_id'],\n",
    "                                            df_prospects_metrics_vf['is_presented_prospect'],\n",
    "                                            df_prospects_metrics_vf['is_client'],\n",
    "                                            df_prospects_num_norm, \n",
    "                                            df_prospects_cat_norm\n",
    "                                                ])"
   ]
  },
  {
   "cell_type": "markdown",
   "id": "9c393c39",
   "metadata": {},
   "source": [
    "**On se focalise sur le Groupe 1**"
   ]
  },
  {
   "cell_type": "code",
   "execution_count": null,
   "id": "c2ce1fa4",
   "metadata": {},
   "outputs": [],
   "source": [
    "# Groupe 1 = prospects déjà appelés par les sales\n",
    "# On extrait les variables d'entrainement\n",
    "df_group_1_Xnorm = df_prospects_Xnorm[df_prospects_Xnorm['is_presented_prospect']==1]\\\n",
    "                                    .drop(columns=['user_id','is_presented_prospect', 'is_client'])"
   ]
  },
  {
   "cell_type": "code",
   "execution_count": null,
   "id": "1d85c1a9",
   "metadata": {},
   "outputs": [],
   "source": [
    "# On extrait la variable à prédire\n",
    "df_group_1_y = df_prospects_metrics_vf[df_prospects_metrics_vf['is_presented_prospect']==1]['is_client']\n",
    "df_group_1_y"
   ]
  },
  {
   "cell_type": "markdown",
   "id": "5d1a10ee",
   "metadata": {},
   "source": [
    "**Choix du modèle**"
   ]
  },
  {
   "cell_type": "markdown",
   "id": "37e42db2",
   "metadata": {},
   "source": [
    "Après consultation de chatgpt, il semblerait que le modèle le plus adapté soit le modèle LogisticRegression\n",
    "\n",
    "Lien vers le chat: https://chatgpt.com/c/66f3c82f-5ca8-8013-9e40-1cc4245ddb28"
   ]
  },
  {
   "cell_type": "markdown",
   "id": "947b88b7",
   "metadata": {},
   "source": [
    "**On importe les librairies**"
   ]
  },
  {
   "cell_type": "code",
   "execution_count": null,
   "id": "7e39a2ba",
   "metadata": {},
   "outputs": [],
   "source": [
    "from sklearn.model_selection import train_test_split\n",
    "from sklearn.linear_model import LogisticRegression"
   ]
  },
  {
   "cell_type": "markdown",
   "id": "1e80727c",
   "metadata": {},
   "source": [
    "**On splitte le Groupe 1 en un groupe d'entraînement et un groupe de test**"
   ]
  },
  {
   "cell_type": "code",
   "execution_count": null,
   "id": "919eda37",
   "metadata": {},
   "outputs": [],
   "source": [
    "X_train, X_test, y_train, y_test = train_test_split(df_group_1_Xnorm, df_group_1_y, train_size = 0.80)"
   ]
  },
  {
   "cell_type": "markdown",
   "id": "bbf2e45a",
   "metadata": {},
   "source": [
    "**On entraîne le modèle et on calcule ses scores**"
   ]
  },
  {
   "cell_type": "code",
   "execution_count": null,
   "id": "dcc66ccc",
   "metadata": {},
   "outputs": [],
   "source": [
    "modelLR = LogisticRegression()\n",
    "modelLR.fit(X_train, y_train)"
   ]
  },
  {
   "cell_type": "code",
   "execution_count": null,
   "id": "7554da9d",
   "metadata": {},
   "outputs": [],
   "source": [
    "train_score = modelLR.score(X_train, y_train)\n",
    "test_score = modelLR.score(X_test, y_test)\n",
    "\n",
    "print(f\"Score d'entrainement : {train_score} \\n Score de test : {test_score}\")"
   ]
  },
  {
   "cell_type": "markdown",
   "id": "b7d1506f",
   "metadata": {},
   "source": [
    "**On se focalise maintenant sur le Groupe 2**"
   ]
  },
  {
   "cell_type": "code",
   "execution_count": null,
   "id": "d0ee5ff6",
   "metadata": {},
   "outputs": [],
   "source": [
    "# Groupe 2 = groupe dont on veut prédire la proba de devenir client s'ils sont appelés\n",
    "# On étudie donc les prospects pas encore clients ET pas encore appelés\n",
    "# On extrait les variables\n",
    "df_group_2_Xnorm = df_prospects_Xnorm[(df_prospects_Xnorm['is_presented_prospect']==0) & (df_prospects_Xnorm['is_client']==0)]\\\n",
    "                        .drop(columns=['user_id', 'is_presented_prospect', 'is_client'])"
   ]
  },
  {
   "cell_type": "markdown",
   "id": "5f993e2b",
   "metadata": {},
   "source": [
    "**On effectue la prédicition et on sort les probas**"
   ]
  },
  {
   "cell_type": "code",
   "execution_count": null,
   "id": "c9dfa61d",
   "metadata": {},
   "outputs": [],
   "source": [
    "group_2_predict_LR = modelLR.predict_proba(df_group_2_Xnorm)\n",
    "pd.DataFrame(group_2_predict_LR)[1].describe()"
   ]
  },
  {
   "cell_type": "code",
   "execution_count": null,
   "id": "9dc5d1bd",
   "metadata": {},
   "outputs": [],
   "source": [
    "df_prospects[df_prospects['is_presented_prospect']==1]['is_client'].value_counts(normalize=True)"
   ]
  },
  {
   "cell_type": "markdown",
   "id": "597067aa",
   "metadata": {},
   "source": [
    "Les résultats ne sont pas délirants : j'ai 7% de clients dans mon Groupe 1, et 7% de proba moyenne sur mon Groupe 2"
   ]
  },
  {
   "cell_type": "markdown",
   "id": "d8400ab6",
   "metadata": {},
   "source": [
    "**On concatène les résultats**"
   ]
  },
  {
   "cell_type": "code",
   "execution_count": null,
   "id": "7f28c3f6",
   "metadata": {},
   "outputs": [],
   "source": [
    "df_scoring = df_prospects_metrics[(df_prospects_metrics['is_presented_prospect']==0)\\\n",
    "                                        & (df_prospects_metrics['is_client']==0)]['user_id'].to_frame().reset_index(drop=True)\n",
    "\n",
    "df_scoring['proba'] = pd.DataFrame(group_2_predict_LR)[1]"
   ]
  },
  {
   "cell_type": "markdown",
   "id": "77879464",
   "metadata": {},
   "source": [
    "**On crée des notes de 1 à 5, sur la base des probas. Les seuils sont uniformément répartis**"
   ]
  },
  {
   "cell_type": "code",
   "execution_count": null,
   "id": "440b5854",
   "metadata": {},
   "outputs": [],
   "source": [
    "df_scoring['score'] = pd.cut(df_scoring['proba'], bins=5, labels=[1,2,3,4,5])"
   ]
  },
  {
   "cell_type": "markdown",
   "id": "d9819531",
   "metadata": {},
   "source": [
    "**Table finale**"
   ]
  },
  {
   "cell_type": "code",
   "execution_count": null,
   "id": "14702531",
   "metadata": {},
   "outputs": [],
   "source": [
    "df_scoring"
   ]
  },
  {
   "cell_type": "markdown",
   "id": "1176ba75",
   "metadata": {},
   "source": [
    "**On étudie le nombre de prospects par catégorie**"
   ]
  },
  {
   "cell_type": "code",
   "execution_count": null,
   "id": "092b9b52",
   "metadata": {},
   "outputs": [],
   "source": [
    "df_scoring['score'].value_counts()"
   ]
  },
  {
   "cell_type": "markdown",
   "id": "4a3c5f34",
   "metadata": {},
   "source": [
    "# 7. Extraction des tables pour Power BI"
   ]
  },
  {
   "cell_type": "code",
   "execution_count": null,
   "id": "30fb111a",
   "metadata": {},
   "outputs": [],
   "source": [
    "import os"
   ]
  },
  {
   "cell_type": "code",
   "execution_count": null,
   "id": "ce957094",
   "metadata": {},
   "outputs": [],
   "source": [
    "'''now = dt.datetime.now()\n",
    "\n",
    "# On crée un folder à la date & heure de l'enregistrement, pour conserver l'historique\n",
    "folder_name = dt.datetime.isoformat(now, sep = \"-\", timespec = \"seconds\").replace(':','')\n",
    "os.makedirs(folder_name, exist_ok=True)\n",
    "df_events.to_csv(f'{folder_name}/events.csv')\n",
    "df_sessions.to_csv(f'{folder_name}/sessions.csv')\n",
    "df_campaigns_metrics.to_csv(f'{folder_name}/campaigns_metrics.csv')\n",
    "df_medium_metrics.to_csv(f'{folder_name}/media_metrics.csv')\n",
    "df_referrer_metrics.to_csv(f'{folder_name}/referrer_metrics.csv')\n",
    "df_users_metrics.to_csv(f'{folder_name}/users_metrics.csv')\n",
    "df_users_segments.to_csv(f'{folder_name}/users_segments.csv')\n",
    "df_prospects_metrics.to_csv(f'{folder_name}/prospects_metrics.csv')\n",
    "df_scoring.to_csv(f'{folder_name}/scoring.csv')\n",
    "\n",
    "# On enregistre les fichiers dans le folder output pour PBI\n",
    "df_events.to_csv('C:/Users/clem2/Documents/Databird/5. Projet/output/events.csv')\n",
    "df_sessions.to_csv('C:/Users/clem2/Documents/Databird/5. Projet/output/sessions.csv')\n",
    "df_campaigns_metrics.to_csv('C:/Users/clem2/Documents/Databird/5. Projet/output/campaigns_metrics.csv')\n",
    "df_medium_metrics.to_csv('C:/Users/clem2/Documents/Databird/5. Projet/output/media_metrics.csv')\n",
    "df_referrer_metrics.to_csv('C:/Users/clem2/Documents/Databird/5. Projet/output/referrer_metrics.csv')\n",
    "df_users_metrics.to_csv('C:/Users/clem2/Documents/Databird/5. Projet/output/users_metrics.csv')\n",
    "df_users_segments.to_csv('C:/Users/clem2/Documents/Databird/5. Projet/output/users_segments.csv')\n",
    "df_prospects_metrics.to_csv('C:/Users/clem2/Documents/Databird/5. Projet/output/prospects_metrics.csv')\n",
    "df_scoring.to_csv('C:/Users/clem2/Documents/Databird/5. Projet/output/scoring.csv')''';"
   ]
  }
 ],
 "metadata": {
  "celltoolbar": "Aucun(e)",
  "kernelspec": {
   "display_name": "Python 3 (ipykernel)",
   "language": "python",
   "name": "python3"
  },
  "language_info": {
   "codemirror_mode": {
    "name": "ipython",
    "version": 3
   },
   "file_extension": ".py",
   "mimetype": "text/x-python",
   "name": "python",
   "nbconvert_exporter": "python",
   "pygments_lexer": "ipython3",
   "version": "3.11.7"
  }
 },
 "nbformat": 4,
 "nbformat_minor": 5
}
